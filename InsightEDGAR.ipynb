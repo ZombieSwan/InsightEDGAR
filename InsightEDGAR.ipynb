{
  "nbformat": 4,
  "nbformat_minor": 0,
  "metadata": {
    "colab": {
      "provenance": [],
      "gpuType": "T4",
      "authorship_tag": "ABX9TyP3H/gon4AAcETb4KuUl8UY",
      "include_colab_link": true
    },
    "kernelspec": {
      "name": "python3",
      "display_name": "Python 3"
    },
    "language_info": {
      "name": "python"
    },
    "accelerator": "GPU"
  },
  "cells": [
    {
      "cell_type": "markdown",
      "metadata": {
        "id": "view-in-github",
        "colab_type": "text"
      },
      "source": [
        "<a href=\"https://colab.research.google.com/github/ZombieSwan/InsightEDGAR/blob/main/InsightEDGAR.ipynb\" target=\"_parent\"><img src=\"https://colab.research.google.com/assets/colab-badge.svg\" alt=\"Open In Colab\"/></a>"
      ]
    },
    {
      "cell_type": "markdown",
      "source": [
        "# **InsightEDGAR: Retrieval-Augmented Generative AI for Financial Document Insights**"
      ],
      "metadata": {
        "id": "fAUqRP6s765f"
      }
    },
    {
      "cell_type": "markdown",
      "source": [
        "**InsightEDGAR** combines the retrieval of relevant text segments from both SEC filings and user-uploaded documents with LLM models to provide instant answers to natural language queries. The system is built with LangChain, Hugging Face Embeddings, and Chroma, and supports flexible filtering using metadata."
      ],
      "metadata": {
        "id": "GFwr_-7AKAvm"
      }
    },
    {
      "cell_type": "code",
      "execution_count": null,
      "metadata": {
        "colab": {
          "base_uri": "https://localhost:8080/"
        },
        "collapsed": true,
        "id": "xyFtkHWar9wa",
        "outputId": "e19f13e3-98df-4df1-f114-8960c262f516"
      },
      "outputs": [
        {
          "output_type": "stream",
          "name": "stdout",
          "text": [
            "Requirement already satisfied: sec-edgar-downloader in /usr/local/lib/python3.11/dist-packages (5.0.3)\n",
            "Requirement already satisfied: requests in /usr/local/lib/python3.11/dist-packages (from sec-edgar-downloader) (2.32.3)\n",
            "Requirement already satisfied: pyrate-limiter>=3.6.0 in /usr/local/lib/python3.11/dist-packages (from sec-edgar-downloader) (3.7.0)\n",
            "Requirement already satisfied: charset-normalizer<4,>=2 in /usr/local/lib/python3.11/dist-packages (from requests->sec-edgar-downloader) (3.4.2)\n",
            "Requirement already satisfied: idna<4,>=2.5 in /usr/local/lib/python3.11/dist-packages (from requests->sec-edgar-downloader) (3.10)\n",
            "Requirement already satisfied: urllib3<3,>=1.21.1 in /usr/local/lib/python3.11/dist-packages (from requests->sec-edgar-downloader) (2.4.0)\n",
            "Requirement already satisfied: certifi>=2017.4.17 in /usr/local/lib/python3.11/dist-packages (from requests->sec-edgar-downloader) (2025.4.26)\n",
            "Requirement already satisfied: chromadb in /usr/local/lib/python3.11/dist-packages (1.0.11)\n",
            "Requirement already satisfied: build>=1.0.3 in /usr/local/lib/python3.11/dist-packages (from chromadb) (1.2.2.post1)\n",
            "Requirement already satisfied: pydantic>=1.9 in /usr/local/lib/python3.11/dist-packages (from chromadb) (2.11.4)\n",
            "Requirement already satisfied: fastapi==0.115.9 in /usr/local/lib/python3.11/dist-packages (from chromadb) (0.115.9)\n",
            "Requirement already satisfied: uvicorn>=0.18.3 in /usr/local/lib/python3.11/dist-packages (from uvicorn[standard]>=0.18.3->chromadb) (0.34.2)\n",
            "Requirement already satisfied: numpy>=1.22.5 in /usr/local/lib/python3.11/dist-packages (from chromadb) (2.0.2)\n",
            "Requirement already satisfied: posthog>=2.4.0 in /usr/local/lib/python3.11/dist-packages (from chromadb) (4.2.0)\n",
            "Requirement already satisfied: typing-extensions>=4.5.0 in /usr/local/lib/python3.11/dist-packages (from chromadb) (4.13.2)\n",
            "Requirement already satisfied: onnxruntime>=1.14.1 in /usr/local/lib/python3.11/dist-packages (from chromadb) (1.22.0)\n",
            "Requirement already satisfied: opentelemetry-api>=1.2.0 in /usr/local/lib/python3.11/dist-packages (from chromadb) (1.33.1)\n",
            "Requirement already satisfied: opentelemetry-exporter-otlp-proto-grpc>=1.2.0 in /usr/local/lib/python3.11/dist-packages (from chromadb) (1.33.1)\n",
            "Requirement already satisfied: opentelemetry-instrumentation-fastapi>=0.41b0 in /usr/local/lib/python3.11/dist-packages (from chromadb) (0.54b1)\n",
            "Requirement already satisfied: opentelemetry-sdk>=1.2.0 in /usr/local/lib/python3.11/dist-packages (from chromadb) (1.33.1)\n",
            "Requirement already satisfied: tokenizers>=0.13.2 in /usr/local/lib/python3.11/dist-packages (from chromadb) (0.21.1)\n",
            "Requirement already satisfied: pypika>=0.48.9 in /usr/local/lib/python3.11/dist-packages (from chromadb) (0.48.9)\n",
            "Requirement already satisfied: tqdm>=4.65.0 in /usr/local/lib/python3.11/dist-packages (from chromadb) (4.67.1)\n",
            "Requirement already satisfied: overrides>=7.3.1 in /usr/local/lib/python3.11/dist-packages (from chromadb) (7.7.0)\n",
            "Requirement already satisfied: importlib-resources in /usr/local/lib/python3.11/dist-packages (from chromadb) (6.5.2)\n",
            "Requirement already satisfied: grpcio>=1.58.0 in /usr/local/lib/python3.11/dist-packages (from chromadb) (1.71.0)\n",
            "Requirement already satisfied: bcrypt>=4.0.1 in /usr/local/lib/python3.11/dist-packages (from chromadb) (4.3.0)\n",
            "Requirement already satisfied: typer>=0.9.0 in /usr/local/lib/python3.11/dist-packages (from chromadb) (0.15.3)\n",
            "Requirement already satisfied: kubernetes>=28.1.0 in /usr/local/lib/python3.11/dist-packages (from chromadb) (32.0.1)\n",
            "Requirement already satisfied: tenacity>=8.2.3 in /usr/local/lib/python3.11/dist-packages (from chromadb) (9.1.2)\n",
            "Requirement already satisfied: pyyaml>=6.0.0 in /usr/local/lib/python3.11/dist-packages (from chromadb) (6.0.2)\n",
            "Requirement already satisfied: mmh3>=4.0.1 in /usr/local/lib/python3.11/dist-packages (from chromadb) (5.1.0)\n",
            "Requirement already satisfied: orjson>=3.9.12 in /usr/local/lib/python3.11/dist-packages (from chromadb) (3.10.18)\n",
            "Requirement already satisfied: httpx>=0.27.0 in /usr/local/lib/python3.11/dist-packages (from chromadb) (0.28.1)\n",
            "Requirement already satisfied: rich>=10.11.0 in /usr/local/lib/python3.11/dist-packages (from chromadb) (13.9.4)\n",
            "Requirement already satisfied: jsonschema>=4.19.0 in /usr/local/lib/python3.11/dist-packages (from chromadb) (4.23.0)\n",
            "Requirement already satisfied: starlette<0.46.0,>=0.40.0 in /usr/local/lib/python3.11/dist-packages (from fastapi==0.115.9->chromadb) (0.45.3)\n",
            "Requirement already satisfied: packaging>=19.1 in /usr/local/lib/python3.11/dist-packages (from build>=1.0.3->chromadb) (24.2)\n",
            "Requirement already satisfied: pyproject_hooks in /usr/local/lib/python3.11/dist-packages (from build>=1.0.3->chromadb) (1.2.0)\n",
            "Requirement already satisfied: anyio in /usr/local/lib/python3.11/dist-packages (from httpx>=0.27.0->chromadb) (4.9.0)\n",
            "Requirement already satisfied: certifi in /usr/local/lib/python3.11/dist-packages (from httpx>=0.27.0->chromadb) (2025.4.26)\n",
            "Requirement already satisfied: httpcore==1.* in /usr/local/lib/python3.11/dist-packages (from httpx>=0.27.0->chromadb) (1.0.9)\n",
            "Requirement already satisfied: idna in /usr/local/lib/python3.11/dist-packages (from httpx>=0.27.0->chromadb) (3.10)\n",
            "Requirement already satisfied: h11>=0.16 in /usr/local/lib/python3.11/dist-packages (from httpcore==1.*->httpx>=0.27.0->chromadb) (0.16.0)\n",
            "Requirement already satisfied: attrs>=22.2.0 in /usr/local/lib/python3.11/dist-packages (from jsonschema>=4.19.0->chromadb) (25.3.0)\n",
            "Requirement already satisfied: jsonschema-specifications>=2023.03.6 in /usr/local/lib/python3.11/dist-packages (from jsonschema>=4.19.0->chromadb) (2025.4.1)\n",
            "Requirement already satisfied: referencing>=0.28.4 in /usr/local/lib/python3.11/dist-packages (from jsonschema>=4.19.0->chromadb) (0.36.2)\n",
            "Requirement already satisfied: rpds-py>=0.7.1 in /usr/local/lib/python3.11/dist-packages (from jsonschema>=4.19.0->chromadb) (0.25.1)\n",
            "Requirement already satisfied: six>=1.9.0 in /usr/local/lib/python3.11/dist-packages (from kubernetes>=28.1.0->chromadb) (1.17.0)\n",
            "Requirement already satisfied: python-dateutil>=2.5.3 in /usr/local/lib/python3.11/dist-packages (from kubernetes>=28.1.0->chromadb) (2.9.0.post0)\n",
            "Requirement already satisfied: google-auth>=1.0.1 in /usr/local/lib/python3.11/dist-packages (from kubernetes>=28.1.0->chromadb) (2.38.0)\n",
            "Requirement already satisfied: websocket-client!=0.40.0,!=0.41.*,!=0.42.*,>=0.32.0 in /usr/local/lib/python3.11/dist-packages (from kubernetes>=28.1.0->chromadb) (1.8.0)\n",
            "Requirement already satisfied: requests in /usr/local/lib/python3.11/dist-packages (from kubernetes>=28.1.0->chromadb) (2.32.3)\n",
            "Requirement already satisfied: requests-oauthlib in /usr/local/lib/python3.11/dist-packages (from kubernetes>=28.1.0->chromadb) (2.0.0)\n",
            "Requirement already satisfied: oauthlib>=3.2.2 in /usr/local/lib/python3.11/dist-packages (from kubernetes>=28.1.0->chromadb) (3.2.2)\n",
            "Requirement already satisfied: urllib3>=1.24.2 in /usr/local/lib/python3.11/dist-packages (from kubernetes>=28.1.0->chromadb) (2.4.0)\n",
            "Requirement already satisfied: durationpy>=0.7 in /usr/local/lib/python3.11/dist-packages (from kubernetes>=28.1.0->chromadb) (0.10)\n",
            "Requirement already satisfied: coloredlogs in /usr/local/lib/python3.11/dist-packages (from onnxruntime>=1.14.1->chromadb) (15.0.1)\n",
            "Requirement already satisfied: flatbuffers in /usr/local/lib/python3.11/dist-packages (from onnxruntime>=1.14.1->chromadb) (25.2.10)\n",
            "Requirement already satisfied: protobuf in /usr/local/lib/python3.11/dist-packages (from onnxruntime>=1.14.1->chromadb) (5.29.4)\n",
            "Requirement already satisfied: sympy in /usr/local/lib/python3.11/dist-packages (from onnxruntime>=1.14.1->chromadb) (1.13.1)\n",
            "Requirement already satisfied: deprecated>=1.2.6 in /usr/local/lib/python3.11/dist-packages (from opentelemetry-api>=1.2.0->chromadb) (1.2.18)\n",
            "Requirement already satisfied: importlib-metadata<8.7.0,>=6.0 in /usr/local/lib/python3.11/dist-packages (from opentelemetry-api>=1.2.0->chromadb) (8.6.1)\n",
            "Requirement already satisfied: googleapis-common-protos~=1.52 in /usr/local/lib/python3.11/dist-packages (from opentelemetry-exporter-otlp-proto-grpc>=1.2.0->chromadb) (1.70.0)\n",
            "Requirement already satisfied: opentelemetry-exporter-otlp-proto-common==1.33.1 in /usr/local/lib/python3.11/dist-packages (from opentelemetry-exporter-otlp-proto-grpc>=1.2.0->chromadb) (1.33.1)\n",
            "Requirement already satisfied: opentelemetry-proto==1.33.1 in /usr/local/lib/python3.11/dist-packages (from opentelemetry-exporter-otlp-proto-grpc>=1.2.0->chromadb) (1.33.1)\n",
            "Requirement already satisfied: opentelemetry-instrumentation-asgi==0.54b1 in /usr/local/lib/python3.11/dist-packages (from opentelemetry-instrumentation-fastapi>=0.41b0->chromadb) (0.54b1)\n",
            "Requirement already satisfied: opentelemetry-instrumentation==0.54b1 in /usr/local/lib/python3.11/dist-packages (from opentelemetry-instrumentation-fastapi>=0.41b0->chromadb) (0.54b1)\n",
            "Requirement already satisfied: opentelemetry-semantic-conventions==0.54b1 in /usr/local/lib/python3.11/dist-packages (from opentelemetry-instrumentation-fastapi>=0.41b0->chromadb) (0.54b1)\n",
            "Requirement already satisfied: opentelemetry-util-http==0.54b1 in /usr/local/lib/python3.11/dist-packages (from opentelemetry-instrumentation-fastapi>=0.41b0->chromadb) (0.54b1)\n",
            "Requirement already satisfied: wrapt<2.0.0,>=1.0.0 in /usr/local/lib/python3.11/dist-packages (from opentelemetry-instrumentation==0.54b1->opentelemetry-instrumentation-fastapi>=0.41b0->chromadb) (1.17.2)\n",
            "Requirement already satisfied: asgiref~=3.0 in /usr/local/lib/python3.11/dist-packages (from opentelemetry-instrumentation-asgi==0.54b1->opentelemetry-instrumentation-fastapi>=0.41b0->chromadb) (3.8.1)\n",
            "Requirement already satisfied: backoff>=1.10.0 in /usr/local/lib/python3.11/dist-packages (from posthog>=2.4.0->chromadb) (2.2.1)\n",
            "Requirement already satisfied: distro>=1.5.0 in /usr/local/lib/python3.11/dist-packages (from posthog>=2.4.0->chromadb) (1.9.0)\n",
            "Requirement already satisfied: annotated-types>=0.6.0 in /usr/local/lib/python3.11/dist-packages (from pydantic>=1.9->chromadb) (0.7.0)\n",
            "Requirement already satisfied: pydantic-core==2.33.2 in /usr/local/lib/python3.11/dist-packages (from pydantic>=1.9->chromadb) (2.33.2)\n",
            "Requirement already satisfied: typing-inspection>=0.4.0 in /usr/local/lib/python3.11/dist-packages (from pydantic>=1.9->chromadb) (0.4.1)\n",
            "Requirement already satisfied: markdown-it-py>=2.2.0 in /usr/local/lib/python3.11/dist-packages (from rich>=10.11.0->chromadb) (3.0.0)\n",
            "Requirement already satisfied: pygments<3.0.0,>=2.13.0 in /usr/local/lib/python3.11/dist-packages (from rich>=10.11.0->chromadb) (2.19.1)\n",
            "Requirement already satisfied: huggingface-hub<1.0,>=0.16.4 in /usr/local/lib/python3.11/dist-packages (from tokenizers>=0.13.2->chromadb) (0.31.4)\n",
            "Requirement already satisfied: click>=8.0.0 in /usr/local/lib/python3.11/dist-packages (from typer>=0.9.0->chromadb) (8.2.1)\n",
            "Requirement already satisfied: shellingham>=1.3.0 in /usr/local/lib/python3.11/dist-packages (from typer>=0.9.0->chromadb) (1.5.4)\n",
            "Requirement already satisfied: httptools>=0.6.3 in /usr/local/lib/python3.11/dist-packages (from uvicorn[standard]>=0.18.3->chromadb) (0.6.4)\n",
            "Requirement already satisfied: python-dotenv>=0.13 in /usr/local/lib/python3.11/dist-packages (from uvicorn[standard]>=0.18.3->chromadb) (1.1.0)\n",
            "Requirement already satisfied: uvloop!=0.15.0,!=0.15.1,>=0.14.0 in /usr/local/lib/python3.11/dist-packages (from uvicorn[standard]>=0.18.3->chromadb) (0.21.0)\n",
            "Requirement already satisfied: watchfiles>=0.13 in /usr/local/lib/python3.11/dist-packages (from uvicorn[standard]>=0.18.3->chromadb) (1.0.5)\n",
            "Requirement already satisfied: websockets>=10.4 in /usr/local/lib/python3.11/dist-packages (from uvicorn[standard]>=0.18.3->chromadb) (15.0.1)\n",
            "Requirement already satisfied: cachetools<6.0,>=2.0.0 in /usr/local/lib/python3.11/dist-packages (from google-auth>=1.0.1->kubernetes>=28.1.0->chromadb) (5.5.2)\n",
            "Requirement already satisfied: pyasn1-modules>=0.2.1 in /usr/local/lib/python3.11/dist-packages (from google-auth>=1.0.1->kubernetes>=28.1.0->chromadb) (0.4.2)\n",
            "Requirement already satisfied: rsa<5,>=3.1.4 in /usr/local/lib/python3.11/dist-packages (from google-auth>=1.0.1->kubernetes>=28.1.0->chromadb) (4.9.1)\n",
            "Requirement already satisfied: filelock in /usr/local/lib/python3.11/dist-packages (from huggingface-hub<1.0,>=0.16.4->tokenizers>=0.13.2->chromadb) (3.18.0)\n",
            "Requirement already satisfied: fsspec>=2023.5.0 in /usr/local/lib/python3.11/dist-packages (from huggingface-hub<1.0,>=0.16.4->tokenizers>=0.13.2->chromadb) (2025.3.2)\n",
            "Requirement already satisfied: zipp>=3.20 in /usr/local/lib/python3.11/dist-packages (from importlib-metadata<8.7.0,>=6.0->opentelemetry-api>=1.2.0->chromadb) (3.21.0)\n",
            "Requirement already satisfied: mdurl~=0.1 in /usr/local/lib/python3.11/dist-packages (from markdown-it-py>=2.2.0->rich>=10.11.0->chromadb) (0.1.2)\n",
            "Requirement already satisfied: charset-normalizer<4,>=2 in /usr/local/lib/python3.11/dist-packages (from requests->kubernetes>=28.1.0->chromadb) (3.4.2)\n",
            "Requirement already satisfied: sniffio>=1.1 in /usr/local/lib/python3.11/dist-packages (from anyio->httpx>=0.27.0->chromadb) (1.3.1)\n",
            "Requirement already satisfied: humanfriendly>=9.1 in /usr/local/lib/python3.11/dist-packages (from coloredlogs->onnxruntime>=1.14.1->chromadb) (10.0)\n",
            "Requirement already satisfied: mpmath<1.4,>=1.1.0 in /usr/local/lib/python3.11/dist-packages (from sympy->onnxruntime>=1.14.1->chromadb) (1.3.0)\n",
            "Requirement already satisfied: pyasn1<0.7.0,>=0.6.1 in /usr/local/lib/python3.11/dist-packages (from pyasn1-modules>=0.2.1->google-auth>=1.0.1->kubernetes>=28.1.0->chromadb) (0.6.1)\n",
            "Requirement already satisfied: sentence-transformers in /usr/local/lib/python3.11/dist-packages (4.1.0)\n",
            "Requirement already satisfied: transformers<5.0.0,>=4.41.0 in /usr/local/lib/python3.11/dist-packages (from sentence-transformers) (4.52.2)\n",
            "Requirement already satisfied: tqdm in /usr/local/lib/python3.11/dist-packages (from sentence-transformers) (4.67.1)\n",
            "Requirement already satisfied: torch>=1.11.0 in /usr/local/lib/python3.11/dist-packages (from sentence-transformers) (2.6.0+cu124)\n",
            "Requirement already satisfied: scikit-learn in /usr/local/lib/python3.11/dist-packages (from sentence-transformers) (1.6.1)\n",
            "Requirement already satisfied: scipy in /usr/local/lib/python3.11/dist-packages (from sentence-transformers) (1.15.3)\n",
            "Requirement already satisfied: huggingface-hub>=0.20.0 in /usr/local/lib/python3.11/dist-packages (from sentence-transformers) (0.31.4)\n",
            "Requirement already satisfied: Pillow in /usr/local/lib/python3.11/dist-packages (from sentence-transformers) (11.2.1)\n",
            "Requirement already satisfied: typing_extensions>=4.5.0 in /usr/local/lib/python3.11/dist-packages (from sentence-transformers) (4.13.2)\n",
            "Requirement already satisfied: filelock in /usr/local/lib/python3.11/dist-packages (from huggingface-hub>=0.20.0->sentence-transformers) (3.18.0)\n",
            "Requirement already satisfied: fsspec>=2023.5.0 in /usr/local/lib/python3.11/dist-packages (from huggingface-hub>=0.20.0->sentence-transformers) (2025.3.2)\n",
            "Requirement already satisfied: packaging>=20.9 in /usr/local/lib/python3.11/dist-packages (from huggingface-hub>=0.20.0->sentence-transformers) (24.2)\n",
            "Requirement already satisfied: pyyaml>=5.1 in /usr/local/lib/python3.11/dist-packages (from huggingface-hub>=0.20.0->sentence-transformers) (6.0.2)\n",
            "Requirement already satisfied: requests in /usr/local/lib/python3.11/dist-packages (from huggingface-hub>=0.20.0->sentence-transformers) (2.32.3)\n",
            "Requirement already satisfied: networkx in /usr/local/lib/python3.11/dist-packages (from torch>=1.11.0->sentence-transformers) (3.4.2)\n",
            "Requirement already satisfied: jinja2 in /usr/local/lib/python3.11/dist-packages (from torch>=1.11.0->sentence-transformers) (3.1.6)\n",
            "Collecting nvidia-cuda-nvrtc-cu12==12.4.127 (from torch>=1.11.0->sentence-transformers)\n",
            "  Using cached nvidia_cuda_nvrtc_cu12-12.4.127-py3-none-manylinux2014_x86_64.whl.metadata (1.5 kB)\n",
            "Collecting nvidia-cuda-runtime-cu12==12.4.127 (from torch>=1.11.0->sentence-transformers)\n",
            "  Using cached nvidia_cuda_runtime_cu12-12.4.127-py3-none-manylinux2014_x86_64.whl.metadata (1.5 kB)\n",
            "Collecting nvidia-cuda-cupti-cu12==12.4.127 (from torch>=1.11.0->sentence-transformers)\n",
            "  Using cached nvidia_cuda_cupti_cu12-12.4.127-py3-none-manylinux2014_x86_64.whl.metadata (1.6 kB)\n",
            "Collecting nvidia-cudnn-cu12==9.1.0.70 (from torch>=1.11.0->sentence-transformers)\n",
            "  Using cached nvidia_cudnn_cu12-9.1.0.70-py3-none-manylinux2014_x86_64.whl.metadata (1.6 kB)\n",
            "Collecting nvidia-cublas-cu12==12.4.5.8 (from torch>=1.11.0->sentence-transformers)\n",
            "  Using cached nvidia_cublas_cu12-12.4.5.8-py3-none-manylinux2014_x86_64.whl.metadata (1.5 kB)\n",
            "Collecting nvidia-cufft-cu12==11.2.1.3 (from torch>=1.11.0->sentence-transformers)\n",
            "  Using cached nvidia_cufft_cu12-11.2.1.3-py3-none-manylinux2014_x86_64.whl.metadata (1.5 kB)\n",
            "Collecting nvidia-curand-cu12==10.3.5.147 (from torch>=1.11.0->sentence-transformers)\n",
            "  Using cached nvidia_curand_cu12-10.3.5.147-py3-none-manylinux2014_x86_64.whl.metadata (1.5 kB)\n",
            "Collecting nvidia-cusolver-cu12==11.6.1.9 (from torch>=1.11.0->sentence-transformers)\n",
            "  Using cached nvidia_cusolver_cu12-11.6.1.9-py3-none-manylinux2014_x86_64.whl.metadata (1.6 kB)\n",
            "Collecting nvidia-cusparse-cu12==12.3.1.170 (from torch>=1.11.0->sentence-transformers)\n",
            "  Using cached nvidia_cusparse_cu12-12.3.1.170-py3-none-manylinux2014_x86_64.whl.metadata (1.6 kB)\n",
            "Requirement already satisfied: nvidia-cusparselt-cu12==0.6.2 in /usr/local/lib/python3.11/dist-packages (from torch>=1.11.0->sentence-transformers) (0.6.2)\n",
            "Requirement already satisfied: nvidia-nccl-cu12==2.21.5 in /usr/local/lib/python3.11/dist-packages (from torch>=1.11.0->sentence-transformers) (2.21.5)\n",
            "Requirement already satisfied: nvidia-nvtx-cu12==12.4.127 in /usr/local/lib/python3.11/dist-packages (from torch>=1.11.0->sentence-transformers) (12.4.127)\n",
            "Collecting nvidia-nvjitlink-cu12==12.4.127 (from torch>=1.11.0->sentence-transformers)\n",
            "  Using cached nvidia_nvjitlink_cu12-12.4.127-py3-none-manylinux2014_x86_64.whl.metadata (1.5 kB)\n",
            "Requirement already satisfied: triton==3.2.0 in /usr/local/lib/python3.11/dist-packages (from torch>=1.11.0->sentence-transformers) (3.2.0)\n",
            "Requirement already satisfied: sympy==1.13.1 in /usr/local/lib/python3.11/dist-packages (from torch>=1.11.0->sentence-transformers) (1.13.1)\n",
            "Requirement already satisfied: mpmath<1.4,>=1.1.0 in /usr/local/lib/python3.11/dist-packages (from sympy==1.13.1->torch>=1.11.0->sentence-transformers) (1.3.0)\n",
            "Requirement already satisfied: numpy>=1.17 in /usr/local/lib/python3.11/dist-packages (from transformers<5.0.0,>=4.41.0->sentence-transformers) (2.0.2)\n",
            "Requirement already satisfied: regex!=2019.12.17 in /usr/local/lib/python3.11/dist-packages (from transformers<5.0.0,>=4.41.0->sentence-transformers) (2024.11.6)\n",
            "Requirement already satisfied: tokenizers<0.22,>=0.21 in /usr/local/lib/python3.11/dist-packages (from transformers<5.0.0,>=4.41.0->sentence-transformers) (0.21.1)\n",
            "Requirement already satisfied: safetensors>=0.4.3 in /usr/local/lib/python3.11/dist-packages (from transformers<5.0.0,>=4.41.0->sentence-transformers) (0.5.3)\n",
            "Requirement already satisfied: joblib>=1.2.0 in /usr/local/lib/python3.11/dist-packages (from scikit-learn->sentence-transformers) (1.5.0)\n",
            "Requirement already satisfied: threadpoolctl>=3.1.0 in /usr/local/lib/python3.11/dist-packages (from scikit-learn->sentence-transformers) (3.6.0)\n",
            "Requirement already satisfied: MarkupSafe>=2.0 in /usr/local/lib/python3.11/dist-packages (from jinja2->torch>=1.11.0->sentence-transformers) (3.0.2)\n",
            "Requirement already satisfied: charset-normalizer<4,>=2 in /usr/local/lib/python3.11/dist-packages (from requests->huggingface-hub>=0.20.0->sentence-transformers) (3.4.2)\n",
            "Requirement already satisfied: idna<4,>=2.5 in /usr/local/lib/python3.11/dist-packages (from requests->huggingface-hub>=0.20.0->sentence-transformers) (3.10)\n",
            "Requirement already satisfied: urllib3<3,>=1.21.1 in /usr/local/lib/python3.11/dist-packages (from requests->huggingface-hub>=0.20.0->sentence-transformers) (2.4.0)\n",
            "Requirement already satisfied: certifi>=2017.4.17 in /usr/local/lib/python3.11/dist-packages (from requests->huggingface-hub>=0.20.0->sentence-transformers) (2025.4.26)\n",
            "Downloading nvidia_cublas_cu12-12.4.5.8-py3-none-manylinux2014_x86_64.whl (363.4 MB)\n",
            "\u001b[2K   \u001b[90m━━━━━━━━━━━━━━━━━━━━━━━━━━━━━━━━━━━━━━━━\u001b[0m \u001b[32m363.4/363.4 MB\u001b[0m \u001b[31m4.1 MB/s\u001b[0m eta \u001b[36m0:00:00\u001b[0m\n",
            "\u001b[?25hDownloading nvidia_cuda_cupti_cu12-12.4.127-py3-none-manylinux2014_x86_64.whl (13.8 MB)\n",
            "\u001b[2K   \u001b[90m━━━━━━━━━━━━━━━━━━━━━━━━━━━━━━━━━━━━━━━━\u001b[0m \u001b[32m13.8/13.8 MB\u001b[0m \u001b[31m106.2 MB/s\u001b[0m eta \u001b[36m0:00:00\u001b[0m\n",
            "\u001b[?25hDownloading nvidia_cuda_nvrtc_cu12-12.4.127-py3-none-manylinux2014_x86_64.whl (24.6 MB)\n",
            "\u001b[2K   \u001b[90m━━━━━━━━━━━━━━━━━━━━━━━━━━━━━━━━━━━━━━━━\u001b[0m \u001b[32m24.6/24.6 MB\u001b[0m \u001b[31m82.7 MB/s\u001b[0m eta \u001b[36m0:00:00\u001b[0m\n",
            "\u001b[?25hDownloading nvidia_cuda_runtime_cu12-12.4.127-py3-none-manylinux2014_x86_64.whl (883 kB)\n",
            "\u001b[2K   \u001b[90m━━━━━━━━━━━━━━━━━━━━━━━━━━━━━━━━━━━━━━━━\u001b[0m \u001b[32m883.7/883.7 kB\u001b[0m \u001b[31m52.0 MB/s\u001b[0m eta \u001b[36m0:00:00\u001b[0m\n",
            "\u001b[?25hDownloading nvidia_cudnn_cu12-9.1.0.70-py3-none-manylinux2014_x86_64.whl (664.8 MB)\n",
            "\u001b[2K   \u001b[90m━━━━━━━━━━━━━━━━━━━━━━━━━━━━━━━━━━━━━━━━\u001b[0m \u001b[32m664.8/664.8 MB\u001b[0m \u001b[31m2.7 MB/s\u001b[0m eta \u001b[36m0:00:00\u001b[0m\n",
            "\u001b[?25hDownloading nvidia_cufft_cu12-11.2.1.3-py3-none-manylinux2014_x86_64.whl (211.5 MB)\n",
            "\u001b[2K   \u001b[90m━━━━━━━━━━━━━━━━━━━━━━━━━━━━━━━━━━━━━━━━\u001b[0m \u001b[32m211.5/211.5 MB\u001b[0m \u001b[31m5.3 MB/s\u001b[0m eta \u001b[36m0:00:00\u001b[0m\n",
            "\u001b[?25hDownloading nvidia_curand_cu12-10.3.5.147-py3-none-manylinux2014_x86_64.whl (56.3 MB)\n",
            "\u001b[2K   \u001b[90m━━━━━━━━━━━━━━━━━━━━━━━━━━━━━━━━━━━━━━━━\u001b[0m \u001b[32m56.3/56.3 MB\u001b[0m \u001b[31m12.7 MB/s\u001b[0m eta \u001b[36m0:00:00\u001b[0m\n",
            "\u001b[?25hDownloading nvidia_cusolver_cu12-11.6.1.9-py3-none-manylinux2014_x86_64.whl (127.9 MB)\n",
            "\u001b[2K   \u001b[90m━━━━━━━━━━━━━━━━━━━━━━━━━━━━━━━━━━━━━━━━\u001b[0m \u001b[32m127.9/127.9 MB\u001b[0m \u001b[31m7.2 MB/s\u001b[0m eta \u001b[36m0:00:00\u001b[0m\n",
            "\u001b[?25hDownloading nvidia_cusparse_cu12-12.3.1.170-py3-none-manylinux2014_x86_64.whl (207.5 MB)\n",
            "\u001b[2K   \u001b[90m━━━━━━━━━━━━━━━━━━━━━━━━━━━━━━━━━━━━━━━━\u001b[0m \u001b[32m207.5/207.5 MB\u001b[0m \u001b[31m6.1 MB/s\u001b[0m eta \u001b[36m0:00:00\u001b[0m\n",
            "\u001b[?25hDownloading nvidia_nvjitlink_cu12-12.4.127-py3-none-manylinux2014_x86_64.whl (21.1 MB)\n",
            "\u001b[2K   \u001b[90m━━━━━━━━━━━━━━━━━━━━━━━━━━━━━━━━━━━━━━━━\u001b[0m \u001b[32m21.1/21.1 MB\u001b[0m \u001b[31m92.6 MB/s\u001b[0m eta \u001b[36m0:00:00\u001b[0m\n",
            "\u001b[?25hInstalling collected packages: nvidia-nvjitlink-cu12, nvidia-curand-cu12, nvidia-cufft-cu12, nvidia-cuda-runtime-cu12, nvidia-cuda-nvrtc-cu12, nvidia-cuda-cupti-cu12, nvidia-cublas-cu12, nvidia-cusparse-cu12, nvidia-cudnn-cu12, nvidia-cusolver-cu12\n",
            "  Attempting uninstall: nvidia-nvjitlink-cu12\n",
            "    Found existing installation: nvidia-nvjitlink-cu12 12.5.82\n",
            "    Uninstalling nvidia-nvjitlink-cu12-12.5.82:\n",
            "      Successfully uninstalled nvidia-nvjitlink-cu12-12.5.82\n",
            "  Attempting uninstall: nvidia-curand-cu12\n",
            "    Found existing installation: nvidia-curand-cu12 10.3.6.82\n",
            "    Uninstalling nvidia-curand-cu12-10.3.6.82:\n",
            "      Successfully uninstalled nvidia-curand-cu12-10.3.6.82\n",
            "  Attempting uninstall: nvidia-cufft-cu12\n",
            "    Found existing installation: nvidia-cufft-cu12 11.2.3.61\n",
            "    Uninstalling nvidia-cufft-cu12-11.2.3.61:\n",
            "      Successfully uninstalled nvidia-cufft-cu12-11.2.3.61\n",
            "  Attempting uninstall: nvidia-cuda-runtime-cu12\n",
            "    Found existing installation: nvidia-cuda-runtime-cu12 12.5.82\n",
            "    Uninstalling nvidia-cuda-runtime-cu12-12.5.82:\n",
            "      Successfully uninstalled nvidia-cuda-runtime-cu12-12.5.82\n",
            "  Attempting uninstall: nvidia-cuda-nvrtc-cu12\n",
            "    Found existing installation: nvidia-cuda-nvrtc-cu12 12.5.82\n",
            "    Uninstalling nvidia-cuda-nvrtc-cu12-12.5.82:\n",
            "      Successfully uninstalled nvidia-cuda-nvrtc-cu12-12.5.82\n",
            "  Attempting uninstall: nvidia-cuda-cupti-cu12\n",
            "    Found existing installation: nvidia-cuda-cupti-cu12 12.5.82\n",
            "    Uninstalling nvidia-cuda-cupti-cu12-12.5.82:\n",
            "      Successfully uninstalled nvidia-cuda-cupti-cu12-12.5.82\n",
            "  Attempting uninstall: nvidia-cublas-cu12\n",
            "    Found existing installation: nvidia-cublas-cu12 12.5.3.2\n",
            "    Uninstalling nvidia-cublas-cu12-12.5.3.2:\n",
            "      Successfully uninstalled nvidia-cublas-cu12-12.5.3.2\n",
            "  Attempting uninstall: nvidia-cusparse-cu12\n",
            "    Found existing installation: nvidia-cusparse-cu12 12.5.1.3\n",
            "    Uninstalling nvidia-cusparse-cu12-12.5.1.3:\n",
            "      Successfully uninstalled nvidia-cusparse-cu12-12.5.1.3\n",
            "  Attempting uninstall: nvidia-cudnn-cu12\n",
            "    Found existing installation: nvidia-cudnn-cu12 9.3.0.75\n",
            "    Uninstalling nvidia-cudnn-cu12-9.3.0.75:\n",
            "      Successfully uninstalled nvidia-cudnn-cu12-9.3.0.75\n",
            "  Attempting uninstall: nvidia-cusolver-cu12\n",
            "    Found existing installation: nvidia-cusolver-cu12 11.6.3.83\n",
            "    Uninstalling nvidia-cusolver-cu12-11.6.3.83:\n",
            "      Successfully uninstalled nvidia-cusolver-cu12-11.6.3.83\n",
            "Successfully installed nvidia-cublas-cu12-12.4.5.8 nvidia-cuda-cupti-cu12-12.4.127 nvidia-cuda-nvrtc-cu12-12.4.127 nvidia-cuda-runtime-cu12-12.4.127 nvidia-cudnn-cu12-9.1.0.70 nvidia-cufft-cu12-11.2.1.3 nvidia-curand-cu12-10.3.5.147 nvidia-cusolver-cu12-11.6.1.9 nvidia-cusparse-cu12-12.3.1.170 nvidia-nvjitlink-cu12-12.4.127\n"
          ]
        }
      ],
      "source": [
        "!pip install sec-edgar-downloader\n",
        "!pip install chromadb\n",
        "!pip install sentence-transformers\n",
        "!pip install -q sentence-transformers chromadb\n"
      ]
    },
    {
      "cell_type": "code",
      "source": [
        "import os\n",
        "import re\n",
        "import pickle\n",
        "from langchain.text_splitter import RecursiveCharacterTextSplitter\n",
        "from sec_edgar_downloader import Downloader\n",
        "from google.colab import drive\n",
        "from langchain.docstore.document import Document\n"
      ],
      "metadata": {
        "id": "9fMjUefy4o_B"
      },
      "execution_count": null,
      "outputs": []
    },
    {
      "cell_type": "markdown",
      "source": [
        "## Create User Chunks from uploaded files\n",
        "We will use Q1 2025 earnings call transcript in .txt as example   "
      ],
      "metadata": {
        "id": "6xK1RWO77cxR"
      }
    },
    {
      "cell_type": "code",
      "source": [
        "drive.mount('/content/drive')"
      ],
      "metadata": {
        "colab": {
          "base_uri": "https://localhost:8080/"
        },
        "id": "wNR4eJC2sN6A",
        "outputId": "4de1eb7e-480a-49d2-91f5-7af51678d30e"
      },
      "execution_count": null,
      "outputs": [
        {
          "output_type": "stream",
          "name": "stdout",
          "text": [
            "Drive already mounted at /content/drive; to attempt to forcibly remount, call drive.mount(\"/content/drive\", force_remount=True).\n"
          ]
        }
      ]
    },
    {
      "cell_type": "code",
      "source": [
        "file_path = \"/content/drive/My Drive/transcript_q1_2025.txt\"\n"
      ],
      "metadata": {
        "id": "1SsHX9autL8L"
      },
      "execution_count": null,
      "outputs": []
    },
    {
      "cell_type": "code",
      "source": [
        "with open(file_path, \"r\", encoding=\"utf-8\", errors=\"ignore\") as f:\n",
        "    text = f.read()\n",
        "\n",
        "print(text[:1000])  # Preview first 1000 characters\n"
      ],
      "metadata": {
        "colab": {
          "base_uri": "https://localhost:8080/"
        },
        "id": "KwJLBhEqudeC",
        "outputId": "48e7d3b6-a7b0-4727-a8c8-53f79a74466d"
      },
      "execution_count": null,
      "outputs": [
        {
          "output_type": "stream",
          "name": "stdout",
          "text": [
            "Tesla, Inc. (NASDAQ:TSLA) Q1 2025 Earnings Conference Call April 22, 2025 5:30 PM ET\n",
            "\n",
            "Company Participants\n",
            "\n",
            "Travis Axelrod - Head of IR\n",
            "Elon Musk - CEO\n",
            "Vaibhav Taneja - CFO\n",
            "Ashok Elluswamy - Director, Autopilot Software\n",
            "Lars Moravy - VP, Vehicle Engineering\n",
            "Roshan Thomas - VP, Supply Chain\n",
            "Karn Budhiraj - VP, Supply Chain\n",
            "\n",
            "Conference Call Participants\n",
            "\n",
            "Pierre Ferragu - New Street\n",
            "Emmanuel Rosner - Wolfe\n",
            "Edison Yu - Deutsche Bank\n",
            "George Gianarikas - Canaccord\n",
            "Colin Langan - Wells Fargo\n",
            "Adam Jonas - Morgan Stanley\n",
            "\n",
            "Operator\n",
            "\n",
            "Good afternoon, everyone, and welcome to Tesla's First Quarter 2025 Q&A Webcast. My name is Travis Axelrod, Head of Investor Relations, and I'm joined today by Elon Musk, Vaibhav Taneja, and a number of other executives. Our Q1 results were announced at about 3 p.m. Central Time in the update deck we published at the same link as this webcast.\n",
            "\n",
            "During this call, we will discuss our business outlook and make forward looking statements. These comments are based on our \n"
          ]
        }
      ]
    },
    {
      "cell_type": "markdown",
      "source": [
        "### Implement a upload-clean-chunk function for User Uploaded files\n",
        "We also add section metadata:\n",
        "Searches the first 300 characters of each chunk for likely section markers:\n",
        "- \"ITEM 1. Business\"\n",
        "- \"ITEM 7A. Quantitative...\"\n",
        "- \"Q&A\"\n",
        "- \"RISK FACTORS\"\n",
        "- \"MANAGEMENT\"\n",
        "\n",
        "Case-insensitive (re.IGNORECASE)\n",
        "\n",
        "If found: assigns that as the \"section\"\n",
        "\n",
        "If not: assigns \"Unknown\""
      ],
      "metadata": {
        "id": "hNUc6C_I6QsM"
      }
    },
    {
      "cell_type": "code",
      "source": [
        "# Recommended cleaning function — works for both EDGAR and user uploads\n",
        "def clean_edgar_text(text):\n",
        "    # Remove all tags like <SEC-DOCUMENT>, <TEXT>, etc.\n",
        "    text = re.sub(r\"<[^>]+>\", \"\", text)\n",
        "    # Replace long sequences of newlines with just two\n",
        "    text = re.sub(r\"\\n{2,}\", \"\\n\\n\", text)\n",
        "    # Trim leading/trailing whitespace\n",
        "    return text.strip()\n",
        "\n",
        "# Function to process any uploaded text file\n",
        "def process_uploaded_file(path, ticker, year, quarter, doc_type):\n",
        "    with open(path, \"r\", encoding=\"utf-8\", errors=\"ignore\") as f:\n",
        "        raw_text = f.read()\n",
        "\n",
        "    cleaned = clean_edgar_text(raw_text)\n",
        "\n",
        "    splitter = RecursiveCharacterTextSplitter(\n",
        "        chunk_size=1000,\n",
        "        chunk_overlap=200,\n",
        "        separators=[\"\\n\\n\", \"\\n\", \".\", \" \", \"\"]\n",
        "    )\n",
        "\n",
        "    chunks = splitter.split_text(cleaned)\n",
        "\n",
        "    user_chunks = []\n",
        "    for i, chunk in enumerate(chunks):\n",
        "        # Try to infer section heading for better metadata\n",
        "        match = re.search(\n",
        "            r\"(ITEM\\s+\\d+[A-Z]*\\..+?|Q&A|MANAGEMENT.*?|RISK FACTORS|RESULTS OF OPERATIONS|FINANCIAL STATEMENTS|DISCUSSION AND ANALYSIS)\",\n",
        "            chunk[:300], re.IGNORECASE\n",
        "        )\n",
        "        section = match.group(1).strip() if match else \"Unknown\"\n",
        "\n",
        "        metadata = {\n",
        "            \"source\": \"user_upload\",\n",
        "            \"filename\": os.path.basename(path),\n",
        "            \"ticker\": ticker,\n",
        "            \"doc_type\": doc_type,\n",
        "            \"year\": year,\n",
        "            \"quarter\": quarter,\n",
        "            \"chunk_id\": i,\n",
        "            \"section\": section\n",
        "        }\n",
        "\n",
        "        user_chunks.append(Document(page_content=chunk, metadata=metadata))\n",
        "\n",
        "    return user_chunks\n",
        "\n",
        "# Example run with your file\n",
        "file_path = \"/content/drive/My Drive/transcript_q1_2025.txt\"\n",
        "user_chunks = process_uploaded_file(\n",
        "    file_path,\n",
        "    ticker=\"TSLA\",\n",
        "    year=2025,\n",
        "    quarter=\"Q1\",\n",
        "    doc_type=\"earnings_call_transcript\"\n",
        ")\n",
        "\n",
        "# Preview result\n",
        "print(f\"✅ Total chunks created: {len(user_chunks)}\")\n",
        "print(\"\\n--- Sample chunk metadata ---\\n\")\n",
        "print(user_chunks[0].metadata)\n",
        "print(\"\\n--- Sample chunk content ---\\n\")\n",
        "print(user_chunks[0].page_content[:500])\n"
      ],
      "metadata": {
        "colab": {
          "base_uri": "https://localhost:8080/"
        },
        "id": "chY6j220vgCr",
        "outputId": "b05c45c1-238f-44ca-9b90-1053cdfb9281"
      },
      "execution_count": null,
      "outputs": [
        {
          "output_type": "stream",
          "name": "stdout",
          "text": [
            "✅ Total chunks created: 102\n",
            "\n",
            "--- Sample chunk metadata ---\n",
            "\n",
            "{'source': 'user_upload', 'filename': 'transcript_q1_2025.txt', 'ticker': 'TSLA', 'doc_type': 'earnings_call_transcript', 'year': 2025, 'quarter': 'Q1', 'chunk_id': 0, 'section': 'Unknown'}\n",
            "\n",
            "--- Sample chunk content ---\n",
            "\n",
            "Tesla, Inc. (NASDAQ:TSLA) Q1 2025 Earnings Conference Call April 22, 2025 5:30 PM ET\n",
            "\n",
            "Company Participants\n",
            "\n",
            "Travis Axelrod - Head of IR\n",
            "Elon Musk - CEO\n",
            "Vaibhav Taneja - CFO\n",
            "Ashok Elluswamy - Director, Autopilot Software\n",
            "Lars Moravy - VP, Vehicle Engineering\n",
            "Roshan Thomas - VP, Supply Chain\n",
            "Karn Budhiraj - VP, Supply Chain\n",
            "\n",
            "Conference Call Participants\n",
            "\n",
            "Pierre Ferragu - New Street\n",
            "Emmanuel Rosner - Wolfe\n",
            "Edison Yu - Deutsche Bank\n",
            "George Gianarikas - Canaccord\n",
            "Colin Langan - Wells Fargo\n",
            "Adam Jonas\n"
          ]
        }
      ]
    },
    {
      "cell_type": "markdown",
      "source": [
        "## Create EDGAR Chunks\n",
        "Load filings from EDGAR\n",
        "\n",
        "Clean the Raw Text\n",
        "\n",
        "- Read each full-submission.txt\n",
        "\n",
        "- Clean it with regex cleaner\n",
        "\n",
        "- Store the cleaned content + metadata"
      ],
      "metadata": {
        "id": "wIB43c2h1nUf"
      }
    },
    {
      "cell_type": "code",
      "source": [
        "drive.mount('/content/drive', force_remount=True)\n"
      ],
      "metadata": {
        "colab": {
          "base_uri": "https://localhost:8080/"
        },
        "id": "KZfkxt054mhF",
        "outputId": "9eb68fe4-2032-4920-c560-9411cb0efc17"
      },
      "execution_count": null,
      "outputs": [
        {
          "output_type": "stream",
          "name": "stdout",
          "text": [
            "Mounted at /content/drive\n"
          ]
        }
      ]
    },
    {
      "cell_type": "code",
      "source": [
        "save_dir = \"/content/drive/MyDrive/edgar-filings-tsla\"\n"
      ],
      "metadata": {
        "id": "RERqgVB8GMGC"
      },
      "execution_count": null,
      "outputs": []
    },
    {
      "cell_type": "code",
      "source": [
        "# Step 1: Set working directory inside Google Drive\n",
        "drive_path = \"/content/drive/MyDrive/edgar-filings\"\n",
        "os.makedirs(drive_path, exist_ok=True)  # Ensure the folder exists\n",
        "os.chdir(drive_path)                    # Change working directory\n",
        "\n",
        "# Step 2: Initialize the downloader using relative path \".\"\n",
        "dl = Downloader(\".\", \"restrepomjuan@hotmail.com\")\n",
        "\n",
        "# Step 3: Download filings\n",
        "print(\"📥 Downloading 10-Q filings for TSLA...\")\n",
        "dl.get(\"10-Q\", \"TSLA\")\n",
        "\n",
        "print(\"📥 Downloading 10-K filings for TSLA...\")\n",
        "dl.get(\"10-K\", \"TSLA\")\n",
        "\n"
      ],
      "metadata": {
        "colab": {
          "base_uri": "https://localhost:8080/"
        },
        "id": "yuU1WVfoGMIc",
        "outputId": "5f02587d-8217-4881-e15d-fa4aa95b168a"
      },
      "execution_count": null,
      "outputs": [
        {
          "output_type": "stream",
          "name": "stdout",
          "text": [
            "📥 Downloading 10-Q filings for TSLA...\n",
            "📥 Downloading 10-K filings for TSLA...\n"
          ]
        },
        {
          "output_type": "execute_result",
          "data": {
            "text/plain": [
              "15"
            ]
          },
          "metadata": {},
          "execution_count": 15
        }
      ]
    },
    {
      "cell_type": "code",
      "source": [
        "!ls -R \"/content/drive/MyDrive/edgar-filings\"\n"
      ],
      "metadata": {
        "colab": {
          "base_uri": "https://localhost:8080/"
        },
        "collapsed": true,
        "id": "TGQPqI-tHnmL",
        "outputId": "84d45b0c-d4cb-40f9-e4dd-ddea2de1df9c"
      },
      "execution_count": null,
      "outputs": [
        {
          "output_type": "stream",
          "name": "stdout",
          "text": [
            "/content/drive/MyDrive/edgar-filings:\n",
            "sec-edgar-filings\n",
            "\n",
            "/content/drive/MyDrive/edgar-filings/sec-edgar-filings:\n",
            "TSLA\n",
            "\n",
            "/content/drive/MyDrive/edgar-filings/sec-edgar-filings/TSLA:\n",
            "10-K  10-Q\n",
            "\n",
            "/content/drive/MyDrive/edgar-filings/sec-edgar-filings/TSLA/10-K:\n",
            "0000950170-22-000796  0001193125-14-069681  0001564590-19-003165\n",
            "0000950170-23-001409  0001564590-15-001031  0001564590-20-004475\n",
            "0001193125-11-054847  0001564590-16-013195  0001564590-21-004599\n",
            "0001193125-12-081990  0001564590-17-003118  0001628280-24-002390\n",
            "0001193125-13-096241  0001564590-18-002956  0001628280-25-003063\n",
            "\n",
            "/content/drive/MyDrive/edgar-filings/sec-edgar-filings/TSLA/10-K/0000950170-22-000796:\n",
            "full-submission.txt\n",
            "\n",
            "/content/drive/MyDrive/edgar-filings/sec-edgar-filings/TSLA/10-K/0000950170-23-001409:\n",
            "full-submission.txt\n",
            "\n",
            "/content/drive/MyDrive/edgar-filings/sec-edgar-filings/TSLA/10-K/0001193125-11-054847:\n",
            "full-submission.txt\n",
            "\n",
            "/content/drive/MyDrive/edgar-filings/sec-edgar-filings/TSLA/10-K/0001193125-12-081990:\n",
            "full-submission.txt\n",
            "\n",
            "/content/drive/MyDrive/edgar-filings/sec-edgar-filings/TSLA/10-K/0001193125-13-096241:\n",
            "full-submission.txt\n",
            "\n",
            "/content/drive/MyDrive/edgar-filings/sec-edgar-filings/TSLA/10-K/0001193125-14-069681:\n",
            "full-submission.txt\n",
            "\n",
            "/content/drive/MyDrive/edgar-filings/sec-edgar-filings/TSLA/10-K/0001564590-15-001031:\n",
            "full-submission.txt\n",
            "\n",
            "/content/drive/MyDrive/edgar-filings/sec-edgar-filings/TSLA/10-K/0001564590-16-013195:\n",
            "full-submission.txt\n",
            "\n",
            "/content/drive/MyDrive/edgar-filings/sec-edgar-filings/TSLA/10-K/0001564590-17-003118:\n",
            "full-submission.txt\n",
            "\n",
            "/content/drive/MyDrive/edgar-filings/sec-edgar-filings/TSLA/10-K/0001564590-18-002956:\n",
            "full-submission.txt\n",
            "\n",
            "/content/drive/MyDrive/edgar-filings/sec-edgar-filings/TSLA/10-K/0001564590-19-003165:\n",
            "full-submission.txt\n",
            "\n",
            "/content/drive/MyDrive/edgar-filings/sec-edgar-filings/TSLA/10-K/0001564590-20-004475:\n",
            "full-submission.txt\n",
            "\n",
            "/content/drive/MyDrive/edgar-filings/sec-edgar-filings/TSLA/10-K/0001564590-21-004599:\n",
            "full-submission.txt\n",
            "\n",
            "/content/drive/MyDrive/edgar-filings/sec-edgar-filings/TSLA/10-K/0001628280-24-002390:\n",
            "full-submission.txt\n",
            "\n",
            "/content/drive/MyDrive/edgar-filings/sec-edgar-filings/TSLA/10-K/0001628280-25-003063:\n",
            "full-submission.txt\n",
            "\n",
            "/content/drive/MyDrive/edgar-filings/sec-edgar-filings/TSLA/10-Q:\n",
            "0000950170-21-000046  0001193125-12-457610  0001564590-17-021343\n",
            "0000950170-21-000524  0001193125-13-212354  0001564590-18-011086\n",
            "0000950170-21-002253  0001193125-13-327916  0001564590-18-019254\n",
            "0000950170-22-006034  0001193125-13-435480  0001564590-18-026353\n",
            "0000950170-22-012936  0001193125-14-192606  0001564590-19-013462\n",
            "0000950170-22-019867  0001193125-14-303175  0001564590-19-026445\n",
            "0000950170-23-013890  0001193125-14-403635  0001564590-19-038256\n",
            "0000950170-23-033872  0001564590-15-003789  0001564590-20-019931\n",
            "0001193125-10-188792  0001564590-15-006666  0001564590-20-033670\n",
            "0001193125-10-259068  0001564590-15-009741  0001564590-20-047486\n",
            "0001193125-11-139677  0001564590-16-018886  0001628280-23-034847\n",
            "0001193125-11-221497  0001564590-16-023024  0001628280-24-017503\n",
            "0001193125-11-308489  0001564590-16-026820  0001628280-24-032662\n",
            "0001193125-12-225825  0001564590-17-009968  0001628280-24-043486\n",
            "0001193125-12-332138  0001564590-17-015705  0001628280-25-018911\n",
            "\n",
            "/content/drive/MyDrive/edgar-filings/sec-edgar-filings/TSLA/10-Q/0000950170-21-000046:\n",
            "full-submission.txt\n",
            "\n",
            "/content/drive/MyDrive/edgar-filings/sec-edgar-filings/TSLA/10-Q/0000950170-21-000524:\n",
            "full-submission.txt\n",
            "\n",
            "/content/drive/MyDrive/edgar-filings/sec-edgar-filings/TSLA/10-Q/0000950170-21-002253:\n",
            "full-submission.txt\n",
            "\n",
            "/content/drive/MyDrive/edgar-filings/sec-edgar-filings/TSLA/10-Q/0000950170-22-006034:\n",
            "full-submission.txt\n",
            "\n",
            "/content/drive/MyDrive/edgar-filings/sec-edgar-filings/TSLA/10-Q/0000950170-22-012936:\n",
            "full-submission.txt\n",
            "\n",
            "/content/drive/MyDrive/edgar-filings/sec-edgar-filings/TSLA/10-Q/0000950170-22-019867:\n",
            "full-submission.txt\n",
            "\n",
            "/content/drive/MyDrive/edgar-filings/sec-edgar-filings/TSLA/10-Q/0000950170-23-013890:\n",
            "full-submission.txt\n",
            "\n",
            "/content/drive/MyDrive/edgar-filings/sec-edgar-filings/TSLA/10-Q/0000950170-23-033872:\n",
            "full-submission.txt\n",
            "\n",
            "/content/drive/MyDrive/edgar-filings/sec-edgar-filings/TSLA/10-Q/0001193125-10-188792:\n",
            "full-submission.txt\n",
            "\n",
            "/content/drive/MyDrive/edgar-filings/sec-edgar-filings/TSLA/10-Q/0001193125-10-259068:\n",
            "full-submission.txt\n",
            "\n",
            "/content/drive/MyDrive/edgar-filings/sec-edgar-filings/TSLA/10-Q/0001193125-11-139677:\n",
            "full-submission.txt\n",
            "\n",
            "/content/drive/MyDrive/edgar-filings/sec-edgar-filings/TSLA/10-Q/0001193125-11-221497:\n",
            "full-submission.txt\n",
            "\n",
            "/content/drive/MyDrive/edgar-filings/sec-edgar-filings/TSLA/10-Q/0001193125-11-308489:\n",
            "full-submission.txt\n",
            "\n",
            "/content/drive/MyDrive/edgar-filings/sec-edgar-filings/TSLA/10-Q/0001193125-12-225825:\n",
            "full-submission.txt\n",
            "\n",
            "/content/drive/MyDrive/edgar-filings/sec-edgar-filings/TSLA/10-Q/0001193125-12-332138:\n",
            "full-submission.txt\n",
            "\n",
            "/content/drive/MyDrive/edgar-filings/sec-edgar-filings/TSLA/10-Q/0001193125-12-457610:\n",
            "full-submission.txt\n",
            "\n",
            "/content/drive/MyDrive/edgar-filings/sec-edgar-filings/TSLA/10-Q/0001193125-13-212354:\n",
            "full-submission.txt\n",
            "\n",
            "/content/drive/MyDrive/edgar-filings/sec-edgar-filings/TSLA/10-Q/0001193125-13-327916:\n",
            "full-submission.txt\n",
            "\n",
            "/content/drive/MyDrive/edgar-filings/sec-edgar-filings/TSLA/10-Q/0001193125-13-435480:\n",
            "full-submission.txt\n",
            "\n",
            "/content/drive/MyDrive/edgar-filings/sec-edgar-filings/TSLA/10-Q/0001193125-14-192606:\n",
            "full-submission.txt\n",
            "\n",
            "/content/drive/MyDrive/edgar-filings/sec-edgar-filings/TSLA/10-Q/0001193125-14-303175:\n",
            "full-submission.txt\n",
            "\n",
            "/content/drive/MyDrive/edgar-filings/sec-edgar-filings/TSLA/10-Q/0001193125-14-403635:\n",
            "full-submission.txt\n",
            "\n",
            "/content/drive/MyDrive/edgar-filings/sec-edgar-filings/TSLA/10-Q/0001564590-15-003789:\n",
            "full-submission.txt\n",
            "\n",
            "/content/drive/MyDrive/edgar-filings/sec-edgar-filings/TSLA/10-Q/0001564590-15-006666:\n",
            "full-submission.txt\n",
            "\n",
            "/content/drive/MyDrive/edgar-filings/sec-edgar-filings/TSLA/10-Q/0001564590-15-009741:\n",
            "full-submission.txt\n",
            "\n",
            "/content/drive/MyDrive/edgar-filings/sec-edgar-filings/TSLA/10-Q/0001564590-16-018886:\n",
            "full-submission.txt\n",
            "\n",
            "/content/drive/MyDrive/edgar-filings/sec-edgar-filings/TSLA/10-Q/0001564590-16-023024:\n",
            "full-submission.txt\n",
            "\n",
            "/content/drive/MyDrive/edgar-filings/sec-edgar-filings/TSLA/10-Q/0001564590-16-026820:\n",
            "full-submission.txt\n",
            "\n",
            "/content/drive/MyDrive/edgar-filings/sec-edgar-filings/TSLA/10-Q/0001564590-17-009968:\n",
            "full-submission.txt\n",
            "\n",
            "/content/drive/MyDrive/edgar-filings/sec-edgar-filings/TSLA/10-Q/0001564590-17-015705:\n",
            "full-submission.txt\n",
            "\n",
            "/content/drive/MyDrive/edgar-filings/sec-edgar-filings/TSLA/10-Q/0001564590-17-021343:\n",
            "full-submission.txt\n",
            "\n",
            "/content/drive/MyDrive/edgar-filings/sec-edgar-filings/TSLA/10-Q/0001564590-18-011086:\n",
            "full-submission.txt\n",
            "\n",
            "/content/drive/MyDrive/edgar-filings/sec-edgar-filings/TSLA/10-Q/0001564590-18-019254:\n",
            "full-submission.txt\n",
            "\n",
            "/content/drive/MyDrive/edgar-filings/sec-edgar-filings/TSLA/10-Q/0001564590-18-026353:\n",
            "full-submission.txt\n",
            "\n",
            "/content/drive/MyDrive/edgar-filings/sec-edgar-filings/TSLA/10-Q/0001564590-19-013462:\n",
            "full-submission.txt\n",
            "\n",
            "/content/drive/MyDrive/edgar-filings/sec-edgar-filings/TSLA/10-Q/0001564590-19-026445:\n",
            "full-submission.txt\n",
            "\n",
            "/content/drive/MyDrive/edgar-filings/sec-edgar-filings/TSLA/10-Q/0001564590-19-038256:\n",
            "full-submission.txt\n",
            "\n",
            "/content/drive/MyDrive/edgar-filings/sec-edgar-filings/TSLA/10-Q/0001564590-20-019931:\n",
            "full-submission.txt\n",
            "\n",
            "/content/drive/MyDrive/edgar-filings/sec-edgar-filings/TSLA/10-Q/0001564590-20-033670:\n",
            "full-submission.txt\n",
            "\n",
            "/content/drive/MyDrive/edgar-filings/sec-edgar-filings/TSLA/10-Q/0001564590-20-047486:\n",
            "full-submission.txt\n",
            "\n",
            "/content/drive/MyDrive/edgar-filings/sec-edgar-filings/TSLA/10-Q/0001628280-23-034847:\n",
            "full-submission.txt\n",
            "\n",
            "/content/drive/MyDrive/edgar-filings/sec-edgar-filings/TSLA/10-Q/0001628280-24-017503:\n",
            "full-submission.txt\n",
            "\n",
            "/content/drive/MyDrive/edgar-filings/sec-edgar-filings/TSLA/10-Q/0001628280-24-032662:\n",
            "full-submission.txt\n",
            "\n",
            "/content/drive/MyDrive/edgar-filings/sec-edgar-filings/TSLA/10-Q/0001628280-24-043486:\n",
            "full-submission.txt\n",
            "\n",
            "/content/drive/MyDrive/edgar-filings/sec-edgar-filings/TSLA/10-Q/0001628280-25-018911:\n",
            "full-submission.txt\n"
          ]
        }
      ]
    },
    {
      "cell_type": "markdown",
      "source": [
        "After processing the 10-Qs & 10-Ks, each will have:\n",
        "\n",
        "- The raw cleaned content\n",
        "\n",
        "- Context info for traceability"
      ],
      "metadata": {
        "id": "wp0d-u8z9eKQ"
      }
    },
    {
      "cell_type": "code",
      "source": [
        "# Step 1: Cleaning function\n",
        "def clean_edgar_text(text):\n",
        "    text = re.sub(r\"<[^>]+>\", \"\", text)  # remove HTML tags\n",
        "    text = re.sub(r\"\\n{2,}\", \"\\n\\n\", text)  # collapse excessive newlines\n",
        "    return text.strip()\n",
        "\n",
        "# New Step: Robust extraction of date information\n",
        "def extract_date_info(text):\n",
        "    match = re.search(r\"CONFORMED PERIOD OF REPORT:\\s*(\\d{4})(\\d{2})(\\d{2})\", text)\n",
        "    if match:\n",
        "        year = int(match.group(1))\n",
        "        month = int(match.group(2))\n",
        "        quarter = f\"Q{((month - 1) // 3) + 1}\"\n",
        "        return year, quarter\n",
        "    return None, None\n",
        "\n",
        "# Step 2: Load and clean all filings\n",
        "def process_filings(ticker, form_type, base_dir_root=\"/content/drive/MyDrive/edgar-filings\", count=12):\n",
        "    base_dir = os.path.join(base_dir_root, \"sec-edgar-filings\", ticker, form_type)\n",
        "    filing_folders = sorted(os.listdir(base_dir))[-count:]\n",
        "\n",
        "    documents = []\n",
        "    for folder in filing_folders:\n",
        "        filing_path = os.path.join(base_dir, folder, \"full-submission.txt\")\n",
        "        with open(filing_path, \"r\", encoding=\"utf-8\", errors=\"ignore\") as f:\n",
        "            raw_text = f.read()\n",
        "            cleaned = clean_edgar_text(raw_text)\n",
        "\n",
        "            # Year and quarter extraction\n",
        "            year, quarter = extract_date_info(cleaned)\n",
        "\n",
        "            documents.append({\n",
        "                \"ticker\": ticker,\n",
        "                \"filing_type\": form_type,\n",
        "                \"folder\": folder,\n",
        "                \"path\": filing_path,\n",
        "                \"cleaned_text\": cleaned,\n",
        "                \"year\": year,\n",
        "                \"quarter\": quarter\n",
        "            })\n",
        "\n",
        "    return documents\n"
      ],
      "metadata": {
        "id": "6B9q1KU5_WRf"
      },
      "execution_count": null,
      "outputs": []
    },
    {
      "cell_type": "markdown",
      "source": [
        "### Chunk Each Cleaned Filing\n",
        "\n",
        "We’ll loop through all_docs (which contains both 10-Q and 10-K filings for the last 3 years), and:\n",
        "\n",
        "- Split the cleaned_text into chunks\n",
        "\n",
        "- Add metadata like: ticker, filing_type, folder, and a guessed section - (it will attempt to find a section heading within the first 300 characters of each chunk)"
      ],
      "metadata": {
        "id": "JiYTkvzC9nIX"
      }
    },
    {
      "cell_type": "code",
      "source": [
        "# Step 3: Run for TSLA\n",
        "docs_10q = process_filings(\"TSLA\", \"10-Q\", count=12)\n",
        "docs_10k = process_filings(\"TSLA\", \"10-K\", count=3)\n",
        "all_docs = docs_10q + docs_10k\n",
        "\n",
        "# Step 4: Chunk the documents\n",
        "splitter = RecursiveCharacterTextSplitter(\n",
        "    chunk_size=1000,\n",
        "    chunk_overlap=200,\n",
        "    separators=[\"\\n\\n\", \"\\n\", \".\", \" \", \"\"]\n",
        ")\n",
        "\n",
        "edgar_chunks = []\n",
        "\n",
        "for doc in all_docs:\n",
        "    chunks = splitter.split_text(doc[\"cleaned_text\"])\n",
        "\n",
        "    for i, chunk in enumerate(chunks):\n",
        "        match = re.search(\n",
        "            r\"(ITEM\\s+\\d+[A-Z]*\\..+?|MANAGEMENT.*?|RISK FACTORS|RESULTS OF OPERATIONS|FINANCIAL STATEMENTS|DISCUSSION AND ANALYSIS)\",\n",
        "            chunk[:300], re.IGNORECASE\n",
        "        )\n",
        "        section = match.group(1).strip() if match else \"Unknown\"\n",
        "\n",
        "        metadata = {\n",
        "            \"source\": \"edgar\",\n",
        "            \"ticker\": doc[\"ticker\"],\n",
        "            \"filing_type\": doc[\"filing_type\"],\n",
        "            \"filing_id\": doc[\"folder\"],\n",
        "            \"chunk_id\": i,\n",
        "            \"section\": section,\n",
        "            \"year\": doc[\"year\"],\n",
        "            \"quarter\": doc[\"quarter\"]\n",
        "        }\n",
        "\n",
        "        edgar_chunks.append(Document(page_content=chunk, metadata=metadata))\n",
        "\n",
        "# Step 5: Confirm result\n",
        "print(f\"✅ Total EDGAR chunks: {len(edgar_chunks)}\")\n",
        "print(\"\\n--- Sample chunk metadata ---\\n\")\n",
        "print(edgar_chunks[0].metadata)\n",
        "print(\"\\n--- Sample chunk content ---\\n\")\n",
        "print(edgar_chunks[0].page_content[:500])\n"
      ],
      "metadata": {
        "colab": {
          "base_uri": "https://localhost:8080/"
        },
        "id": "dga5ZW7Q_dNZ",
        "outputId": "7e4bd97a-b61a-422b-af1a-ffc873ea82d3"
      },
      "execution_count": null,
      "outputs": [
        {
          "output_type": "stream",
          "name": "stdout",
          "text": [
            "✅ Total EDGAR chunks: 112848\n",
            "\n",
            "--- Sample chunk metadata ---\n",
            "\n",
            "{'source': 'edgar', 'ticker': 'TSLA', 'filing_type': '10-Q', 'filing_id': '0001564590-18-026353', 'chunk_id': 0, 'section': 'Unknown', 'year': 2018, 'quarter': 'Q3'}\n",
            "\n",
            "--- Sample chunk content ---\n",
            "\n",
            "0001564590-18-026353.txt : 20181102\n",
            "0001564590-18-026353.hdr.sgml : 20181102\n",
            "20181101203856\n",
            "ACCESSION NUMBER:\t\t0001564590-18-026353\n",
            "CONFORMED SUBMISSION TYPE:\t10-Q\n",
            "PUBLIC DOCUMENT COUNT:\t\t97\n",
            "CONFORMED PERIOD OF REPORT:\t20180930\n",
            "FILED AS OF DATE:\t\t20181102\n",
            "DATE AS OF CHANGE:\t\t20181101\n",
            "\n",
            "FILER:\n",
            "\n",
            "\tCOMPANY DATA:\t\n",
            "\t\tCOMPANY CONFORMED NAME:\t\t\tTesla, Inc.\n",
            "\t\tCENTRAL INDEX KEY:\t\t\t0001318605\n",
            "\t\tSTANDARD INDUSTRIAL CLASSIFICATION:\tMOTOR VEHICLES & PASSENGER CAR BODIES [3711]\n",
            "\t\tIRS NUMBER:\t\t\t\t912197729\n",
            "\t\tSTAT\n"
          ]
        }
      ]
    },
    {
      "cell_type": "markdown",
      "source": [
        "### Now merge EDGAR chunks with User chunks"
      ],
      "metadata": {
        "id": "zlDmccRf_DU4"
      }
    },
    {
      "cell_type": "code",
      "source": [
        "# Combine both sources into one list\n",
        "all_chunks = edgar_chunks + user_chunks\n",
        "print(f\"✅ Total combined chunks: {len(all_chunks)}\")\n"
      ],
      "metadata": {
        "colab": {
          "base_uri": "https://localhost:8080/"
        },
        "id": "qGlw4QE02Nrl",
        "outputId": "46b75655-7299-49f1-efc9-105df57c7c10"
      },
      "execution_count": null,
      "outputs": [
        {
          "output_type": "stream",
          "name": "stdout",
          "text": [
            "✅ Total combined chunks: 112950\n"
          ]
        }
      ]
    },
    {
      "cell_type": "markdown",
      "source": [
        "#### Save Chunks"
      ],
      "metadata": {
        "id": "IAhBb9hpOvqQ"
      }
    },
    {
      "cell_type": "code",
      "source": [
        "drive_path = \"/content/drive/MyDrive/Generative_AI\"\n",
        "os.makedirs(drive_path, exist_ok=True)\n",
        "chunk_file_path = os.path.join(drive_path, \"all_chunks.pkl\")"
      ],
      "metadata": {
        "id": "xRepVkOLLi75"
      },
      "execution_count": null,
      "outputs": []
    },
    {
      "cell_type": "code",
      "source": [
        "with open(chunk_file_path, \"wb\") as f:\n",
        "    pickle.dump(all_chunks, f)\n",
        "\n",
        "print(f\"Chunks saved successfully to {chunk_file_path}\")"
      ],
      "metadata": {
        "colab": {
          "base_uri": "https://localhost:8080/"
        },
        "id": "hLs0-_6bMpOE",
        "outputId": "a6546a6f-0a96-4beb-ecc1-798ed4114aee"
      },
      "execution_count": null,
      "outputs": [
        {
          "output_type": "stream",
          "name": "stdout",
          "text": [
            "Chunks saved successfully to /content/drive/MyDrive/Generative_AI/all_chunks.pkl\n"
          ]
        }
      ]
    },
    {
      "cell_type": "markdown",
      "source": [
        "# Part 2 - Embeddings\n",
        "Restart the Colab Runtime & Re-Install packages"
      ],
      "metadata": {
        "id": "pXD1ckpLPeLp"
      }
    },
    {
      "cell_type": "markdown",
      "source": [
        "### Flatten the List for Embeddings\n",
        "\n",
        "all_chunks contains dictionaries - before embeding the text using models like sentence-transformers, we need to define texts and metadatas:\n",
        "\n",
        "The pure text → this gets turned into an embedding.\n",
        "\n",
        "The associated metadata → so we can later filter, search, or display info about each chunk in your vector DB."
      ],
      "metadata": {
        "id": "tz4FMJGXAgHp"
      }
    },
    {
      "cell_type": "code",
      "source": [
        "!pip install -U langchain langchain-openai langchain-chroma python-dotenv\n",
        "!pip install -q sentence-transformers chromadb\n",
        "!pip install -U langchain-community\n",
        "!pip install lark\n",
        "\n",
        "import os\n",
        "import pickle\n",
        "from dotenv import load_dotenv\n",
        "from sentence_transformers import SentenceTransformer\n",
        "from langchain.embeddings import HuggingFaceEmbeddings\n",
        "from langchain.docstore.document import Document\n",
        "from langchain_chroma import Chroma\n",
        "from langchain_openai import ChatOpenAI\n",
        "from langchain.chains import RetrievalQA\n",
        "from langchain.chains.query_constructor.schema import AttributeInfo\n",
        "from langchain.retrievers.self_query.base import SelfQueryRetriever\n"
      ],
      "metadata": {
        "colab": {
          "base_uri": "https://localhost:8080/"
        },
        "collapsed": true,
        "id": "VjX5PvqY6Tar",
        "outputId": "69c9474a-3223-4422-d038-1dadb195f807"
      },
      "execution_count": null,
      "outputs": [
        {
          "output_type": "stream",
          "name": "stdout",
          "text": [
            "Requirement already satisfied: langchain in /usr/local/lib/python3.11/dist-packages (0.3.25)\n",
            "Requirement already satisfied: langchain-openai in /usr/local/lib/python3.11/dist-packages (0.3.18)\n",
            "Requirement already satisfied: langchain-chroma in /usr/local/lib/python3.11/dist-packages (0.2.4)\n",
            "Requirement already satisfied: python-dotenv in /usr/local/lib/python3.11/dist-packages (1.1.0)\n",
            "Requirement already satisfied: langchain-core<1.0.0,>=0.3.58 in /usr/local/lib/python3.11/dist-packages (from langchain) (0.3.63)\n",
            "Requirement already satisfied: langchain-text-splitters<1.0.0,>=0.3.8 in /usr/local/lib/python3.11/dist-packages (from langchain) (0.3.8)\n",
            "Requirement already satisfied: langsmith<0.4,>=0.1.17 in /usr/local/lib/python3.11/dist-packages (from langchain) (0.3.42)\n",
            "Requirement already satisfied: pydantic<3.0.0,>=2.7.4 in /usr/local/lib/python3.11/dist-packages (from langchain) (2.11.4)\n",
            "Requirement already satisfied: SQLAlchemy<3,>=1.4 in /usr/local/lib/python3.11/dist-packages (from langchain) (2.0.41)\n",
            "Requirement already satisfied: requests<3,>=2 in /usr/local/lib/python3.11/dist-packages (from langchain) (2.32.3)\n",
            "Requirement already satisfied: PyYAML>=5.3 in /usr/local/lib/python3.11/dist-packages (from langchain) (6.0.2)\n",
            "Requirement already satisfied: openai<2.0.0,>=1.68.2 in /usr/local/lib/python3.11/dist-packages (from langchain-openai) (1.81.0)\n",
            "Requirement already satisfied: tiktoken<1,>=0.7 in /usr/local/lib/python3.11/dist-packages (from langchain-openai) (0.9.0)\n",
            "Requirement already satisfied: numpy>=1.26.0 in /usr/local/lib/python3.11/dist-packages (from langchain-chroma) (2.0.2)\n",
            "Requirement already satisfied: chromadb>=1.0.9 in /usr/local/lib/python3.11/dist-packages (from langchain-chroma) (1.0.11)\n",
            "Requirement already satisfied: build>=1.0.3 in /usr/local/lib/python3.11/dist-packages (from chromadb>=1.0.9->langchain-chroma) (1.2.2.post1)\n",
            "Requirement already satisfied: fastapi==0.115.9 in /usr/local/lib/python3.11/dist-packages (from chromadb>=1.0.9->langchain-chroma) (0.115.9)\n",
            "Requirement already satisfied: uvicorn>=0.18.3 in /usr/local/lib/python3.11/dist-packages (from uvicorn[standard]>=0.18.3->chromadb>=1.0.9->langchain-chroma) (0.34.2)\n",
            "Requirement already satisfied: posthog>=2.4.0 in /usr/local/lib/python3.11/dist-packages (from chromadb>=1.0.9->langchain-chroma) (4.2.0)\n",
            "Requirement already satisfied: typing-extensions>=4.5.0 in /usr/local/lib/python3.11/dist-packages (from chromadb>=1.0.9->langchain-chroma) (4.13.2)\n",
            "Requirement already satisfied: onnxruntime>=1.14.1 in /usr/local/lib/python3.11/dist-packages (from chromadb>=1.0.9->langchain-chroma) (1.22.0)\n",
            "Requirement already satisfied: opentelemetry-api>=1.2.0 in /usr/local/lib/python3.11/dist-packages (from chromadb>=1.0.9->langchain-chroma) (1.33.1)\n",
            "Requirement already satisfied: opentelemetry-exporter-otlp-proto-grpc>=1.2.0 in /usr/local/lib/python3.11/dist-packages (from chromadb>=1.0.9->langchain-chroma) (1.33.1)\n",
            "Requirement already satisfied: opentelemetry-instrumentation-fastapi>=0.41b0 in /usr/local/lib/python3.11/dist-packages (from chromadb>=1.0.9->langchain-chroma) (0.54b1)\n",
            "Requirement already satisfied: opentelemetry-sdk>=1.2.0 in /usr/local/lib/python3.11/dist-packages (from chromadb>=1.0.9->langchain-chroma) (1.33.1)\n",
            "Requirement already satisfied: tokenizers>=0.13.2 in /usr/local/lib/python3.11/dist-packages (from chromadb>=1.0.9->langchain-chroma) (0.21.1)\n",
            "Requirement already satisfied: pypika>=0.48.9 in /usr/local/lib/python3.11/dist-packages (from chromadb>=1.0.9->langchain-chroma) (0.48.9)\n",
            "Requirement already satisfied: tqdm>=4.65.0 in /usr/local/lib/python3.11/dist-packages (from chromadb>=1.0.9->langchain-chroma) (4.67.1)\n",
            "Requirement already satisfied: overrides>=7.3.1 in /usr/local/lib/python3.11/dist-packages (from chromadb>=1.0.9->langchain-chroma) (7.7.0)\n",
            "Requirement already satisfied: importlib-resources in /usr/local/lib/python3.11/dist-packages (from chromadb>=1.0.9->langchain-chroma) (6.5.2)\n",
            "Requirement already satisfied: grpcio>=1.58.0 in /usr/local/lib/python3.11/dist-packages (from chromadb>=1.0.9->langchain-chroma) (1.71.0)\n",
            "Requirement already satisfied: bcrypt>=4.0.1 in /usr/local/lib/python3.11/dist-packages (from chromadb>=1.0.9->langchain-chroma) (4.3.0)\n",
            "Requirement already satisfied: typer>=0.9.0 in /usr/local/lib/python3.11/dist-packages (from chromadb>=1.0.9->langchain-chroma) (0.15.3)\n",
            "Requirement already satisfied: kubernetes>=28.1.0 in /usr/local/lib/python3.11/dist-packages (from chromadb>=1.0.9->langchain-chroma) (32.0.1)\n",
            "Requirement already satisfied: tenacity>=8.2.3 in /usr/local/lib/python3.11/dist-packages (from chromadb>=1.0.9->langchain-chroma) (9.1.2)\n",
            "Requirement already satisfied: mmh3>=4.0.1 in /usr/local/lib/python3.11/dist-packages (from chromadb>=1.0.9->langchain-chroma) (5.1.0)\n",
            "Requirement already satisfied: orjson>=3.9.12 in /usr/local/lib/python3.11/dist-packages (from chromadb>=1.0.9->langchain-chroma) (3.10.18)\n",
            "Requirement already satisfied: httpx>=0.27.0 in /usr/local/lib/python3.11/dist-packages (from chromadb>=1.0.9->langchain-chroma) (0.28.1)\n",
            "Requirement already satisfied: rich>=10.11.0 in /usr/local/lib/python3.11/dist-packages (from chromadb>=1.0.9->langchain-chroma) (13.9.4)\n",
            "Requirement already satisfied: jsonschema>=4.19.0 in /usr/local/lib/python3.11/dist-packages (from chromadb>=1.0.9->langchain-chroma) (4.23.0)\n",
            "Requirement already satisfied: starlette<0.46.0,>=0.40.0 in /usr/local/lib/python3.11/dist-packages (from fastapi==0.115.9->chromadb>=1.0.9->langchain-chroma) (0.45.3)\n",
            "Requirement already satisfied: jsonpatch<2.0,>=1.33 in /usr/local/lib/python3.11/dist-packages (from langchain-core<1.0.0,>=0.3.58->langchain) (1.33)\n",
            "Requirement already satisfied: packaging<25,>=23.2 in /usr/local/lib/python3.11/dist-packages (from langchain-core<1.0.0,>=0.3.58->langchain) (24.2)\n",
            "Requirement already satisfied: requests-toolbelt<2.0.0,>=1.0.0 in /usr/local/lib/python3.11/dist-packages (from langsmith<0.4,>=0.1.17->langchain) (1.0.0)\n",
            "Requirement already satisfied: zstandard<0.24.0,>=0.23.0 in /usr/local/lib/python3.11/dist-packages (from langsmith<0.4,>=0.1.17->langchain) (0.23.0)\n",
            "Requirement already satisfied: anyio<5,>=3.5.0 in /usr/local/lib/python3.11/dist-packages (from openai<2.0.0,>=1.68.2->langchain-openai) (4.9.0)\n",
            "Requirement already satisfied: distro<2,>=1.7.0 in /usr/local/lib/python3.11/dist-packages (from openai<2.0.0,>=1.68.2->langchain-openai) (1.9.0)\n",
            "Requirement already satisfied: jiter<1,>=0.4.0 in /usr/local/lib/python3.11/dist-packages (from openai<2.0.0,>=1.68.2->langchain-openai) (0.10.0)\n",
            "Requirement already satisfied: sniffio in /usr/local/lib/python3.11/dist-packages (from openai<2.0.0,>=1.68.2->langchain-openai) (1.3.1)\n",
            "Requirement already satisfied: annotated-types>=0.6.0 in /usr/local/lib/python3.11/dist-packages (from pydantic<3.0.0,>=2.7.4->langchain) (0.7.0)\n",
            "Requirement already satisfied: pydantic-core==2.33.2 in /usr/local/lib/python3.11/dist-packages (from pydantic<3.0.0,>=2.7.4->langchain) (2.33.2)\n",
            "Requirement already satisfied: typing-inspection>=0.4.0 in /usr/local/lib/python3.11/dist-packages (from pydantic<3.0.0,>=2.7.4->langchain) (0.4.1)\n",
            "Requirement already satisfied: charset-normalizer<4,>=2 in /usr/local/lib/python3.11/dist-packages (from requests<3,>=2->langchain) (3.4.2)\n",
            "Requirement already satisfied: idna<4,>=2.5 in /usr/local/lib/python3.11/dist-packages (from requests<3,>=2->langchain) (3.10)\n",
            "Requirement already satisfied: urllib3<3,>=1.21.1 in /usr/local/lib/python3.11/dist-packages (from requests<3,>=2->langchain) (2.4.0)\n",
            "Requirement already satisfied: certifi>=2017.4.17 in /usr/local/lib/python3.11/dist-packages (from requests<3,>=2->langchain) (2025.4.26)\n",
            "Requirement already satisfied: greenlet>=1 in /usr/local/lib/python3.11/dist-packages (from SQLAlchemy<3,>=1.4->langchain) (3.2.2)\n",
            "Requirement already satisfied: regex>=2022.1.18 in /usr/local/lib/python3.11/dist-packages (from tiktoken<1,>=0.7->langchain-openai) (2024.11.6)\n",
            "Requirement already satisfied: pyproject_hooks in /usr/local/lib/python3.11/dist-packages (from build>=1.0.3->chromadb>=1.0.9->langchain-chroma) (1.2.0)\n",
            "Requirement already satisfied: httpcore==1.* in /usr/local/lib/python3.11/dist-packages (from httpx>=0.27.0->chromadb>=1.0.9->langchain-chroma) (1.0.9)\n",
            "Requirement already satisfied: h11>=0.16 in /usr/local/lib/python3.11/dist-packages (from httpcore==1.*->httpx>=0.27.0->chromadb>=1.0.9->langchain-chroma) (0.16.0)\n",
            "Requirement already satisfied: jsonpointer>=1.9 in /usr/local/lib/python3.11/dist-packages (from jsonpatch<2.0,>=1.33->langchain-core<1.0.0,>=0.3.58->langchain) (3.0.0)\n",
            "Requirement already satisfied: attrs>=22.2.0 in /usr/local/lib/python3.11/dist-packages (from jsonschema>=4.19.0->chromadb>=1.0.9->langchain-chroma) (25.3.0)\n",
            "Requirement already satisfied: jsonschema-specifications>=2023.03.6 in /usr/local/lib/python3.11/dist-packages (from jsonschema>=4.19.0->chromadb>=1.0.9->langchain-chroma) (2025.4.1)\n",
            "Requirement already satisfied: referencing>=0.28.4 in /usr/local/lib/python3.11/dist-packages (from jsonschema>=4.19.0->chromadb>=1.0.9->langchain-chroma) (0.36.2)\n",
            "Requirement already satisfied: rpds-py>=0.7.1 in /usr/local/lib/python3.11/dist-packages (from jsonschema>=4.19.0->chromadb>=1.0.9->langchain-chroma) (0.25.1)\n",
            "Requirement already satisfied: six>=1.9.0 in /usr/local/lib/python3.11/dist-packages (from kubernetes>=28.1.0->chromadb>=1.0.9->langchain-chroma) (1.17.0)\n",
            "Requirement already satisfied: python-dateutil>=2.5.3 in /usr/local/lib/python3.11/dist-packages (from kubernetes>=28.1.0->chromadb>=1.0.9->langchain-chroma) (2.9.0.post0)\n",
            "Requirement already satisfied: google-auth>=1.0.1 in /usr/local/lib/python3.11/dist-packages (from kubernetes>=28.1.0->chromadb>=1.0.9->langchain-chroma) (2.38.0)\n",
            "Requirement already satisfied: websocket-client!=0.40.0,!=0.41.*,!=0.42.*,>=0.32.0 in /usr/local/lib/python3.11/dist-packages (from kubernetes>=28.1.0->chromadb>=1.0.9->langchain-chroma) (1.8.0)\n",
            "Requirement already satisfied: requests-oauthlib in /usr/local/lib/python3.11/dist-packages (from kubernetes>=28.1.0->chromadb>=1.0.9->langchain-chroma) (2.0.0)\n",
            "Requirement already satisfied: oauthlib>=3.2.2 in /usr/local/lib/python3.11/dist-packages (from kubernetes>=28.1.0->chromadb>=1.0.9->langchain-chroma) (3.2.2)\n",
            "Requirement already satisfied: durationpy>=0.7 in /usr/local/lib/python3.11/dist-packages (from kubernetes>=28.1.0->chromadb>=1.0.9->langchain-chroma) (0.10)\n",
            "Requirement already satisfied: coloredlogs in /usr/local/lib/python3.11/dist-packages (from onnxruntime>=1.14.1->chromadb>=1.0.9->langchain-chroma) (15.0.1)\n",
            "Requirement already satisfied: flatbuffers in /usr/local/lib/python3.11/dist-packages (from onnxruntime>=1.14.1->chromadb>=1.0.9->langchain-chroma) (25.2.10)\n",
            "Requirement already satisfied: protobuf in /usr/local/lib/python3.11/dist-packages (from onnxruntime>=1.14.1->chromadb>=1.0.9->langchain-chroma) (5.29.4)\n",
            "Requirement already satisfied: sympy in /usr/local/lib/python3.11/dist-packages (from onnxruntime>=1.14.1->chromadb>=1.0.9->langchain-chroma) (1.13.1)\n",
            "Requirement already satisfied: deprecated>=1.2.6 in /usr/local/lib/python3.11/dist-packages (from opentelemetry-api>=1.2.0->chromadb>=1.0.9->langchain-chroma) (1.2.18)\n",
            "Requirement already satisfied: importlib-metadata<8.7.0,>=6.0 in /usr/local/lib/python3.11/dist-packages (from opentelemetry-api>=1.2.0->chromadb>=1.0.9->langchain-chroma) (8.6.1)\n",
            "Requirement already satisfied: googleapis-common-protos~=1.52 in /usr/local/lib/python3.11/dist-packages (from opentelemetry-exporter-otlp-proto-grpc>=1.2.0->chromadb>=1.0.9->langchain-chroma) (1.70.0)\n",
            "Requirement already satisfied: opentelemetry-exporter-otlp-proto-common==1.33.1 in /usr/local/lib/python3.11/dist-packages (from opentelemetry-exporter-otlp-proto-grpc>=1.2.0->chromadb>=1.0.9->langchain-chroma) (1.33.1)\n",
            "Requirement already satisfied: opentelemetry-proto==1.33.1 in /usr/local/lib/python3.11/dist-packages (from opentelemetry-exporter-otlp-proto-grpc>=1.2.0->chromadb>=1.0.9->langchain-chroma) (1.33.1)\n",
            "Requirement already satisfied: opentelemetry-instrumentation-asgi==0.54b1 in /usr/local/lib/python3.11/dist-packages (from opentelemetry-instrumentation-fastapi>=0.41b0->chromadb>=1.0.9->langchain-chroma) (0.54b1)\n",
            "Requirement already satisfied: opentelemetry-instrumentation==0.54b1 in /usr/local/lib/python3.11/dist-packages (from opentelemetry-instrumentation-fastapi>=0.41b0->chromadb>=1.0.9->langchain-chroma) (0.54b1)\n",
            "Requirement already satisfied: opentelemetry-semantic-conventions==0.54b1 in /usr/local/lib/python3.11/dist-packages (from opentelemetry-instrumentation-fastapi>=0.41b0->chromadb>=1.0.9->langchain-chroma) (0.54b1)\n",
            "Requirement already satisfied: opentelemetry-util-http==0.54b1 in /usr/local/lib/python3.11/dist-packages (from opentelemetry-instrumentation-fastapi>=0.41b0->chromadb>=1.0.9->langchain-chroma) (0.54b1)\n",
            "Requirement already satisfied: wrapt<2.0.0,>=1.0.0 in /usr/local/lib/python3.11/dist-packages (from opentelemetry-instrumentation==0.54b1->opentelemetry-instrumentation-fastapi>=0.41b0->chromadb>=1.0.9->langchain-chroma) (1.17.2)\n",
            "Requirement already satisfied: asgiref~=3.0 in /usr/local/lib/python3.11/dist-packages (from opentelemetry-instrumentation-asgi==0.54b1->opentelemetry-instrumentation-fastapi>=0.41b0->chromadb>=1.0.9->langchain-chroma) (3.8.1)\n",
            "Requirement already satisfied: backoff>=1.10.0 in /usr/local/lib/python3.11/dist-packages (from posthog>=2.4.0->chromadb>=1.0.9->langchain-chroma) (2.2.1)\n",
            "Requirement already satisfied: markdown-it-py>=2.2.0 in /usr/local/lib/python3.11/dist-packages (from rich>=10.11.0->chromadb>=1.0.9->langchain-chroma) (3.0.0)\n",
            "Requirement already satisfied: pygments<3.0.0,>=2.13.0 in /usr/local/lib/python3.11/dist-packages (from rich>=10.11.0->chromadb>=1.0.9->langchain-chroma) (2.19.1)\n",
            "Requirement already satisfied: huggingface-hub<1.0,>=0.16.4 in /usr/local/lib/python3.11/dist-packages (from tokenizers>=0.13.2->chromadb>=1.0.9->langchain-chroma) (0.31.4)\n",
            "Requirement already satisfied: click>=8.0.0 in /usr/local/lib/python3.11/dist-packages (from typer>=0.9.0->chromadb>=1.0.9->langchain-chroma) (8.2.1)\n",
            "Requirement already satisfied: shellingham>=1.3.0 in /usr/local/lib/python3.11/dist-packages (from typer>=0.9.0->chromadb>=1.0.9->langchain-chroma) (1.5.4)\n",
            "Requirement already satisfied: httptools>=0.6.3 in /usr/local/lib/python3.11/dist-packages (from uvicorn[standard]>=0.18.3->chromadb>=1.0.9->langchain-chroma) (0.6.4)\n",
            "Requirement already satisfied: uvloop!=0.15.0,!=0.15.1,>=0.14.0 in /usr/local/lib/python3.11/dist-packages (from uvicorn[standard]>=0.18.3->chromadb>=1.0.9->langchain-chroma) (0.21.0)\n",
            "Requirement already satisfied: watchfiles>=0.13 in /usr/local/lib/python3.11/dist-packages (from uvicorn[standard]>=0.18.3->chromadb>=1.0.9->langchain-chroma) (1.0.5)\n",
            "Requirement already satisfied: websockets>=10.4 in /usr/local/lib/python3.11/dist-packages (from uvicorn[standard]>=0.18.3->chromadb>=1.0.9->langchain-chroma) (15.0.1)\n",
            "Requirement already satisfied: cachetools<6.0,>=2.0.0 in /usr/local/lib/python3.11/dist-packages (from google-auth>=1.0.1->kubernetes>=28.1.0->chromadb>=1.0.9->langchain-chroma) (5.5.2)\n",
            "Requirement already satisfied: pyasn1-modules>=0.2.1 in /usr/local/lib/python3.11/dist-packages (from google-auth>=1.0.1->kubernetes>=28.1.0->chromadb>=1.0.9->langchain-chroma) (0.4.2)\n",
            "Requirement already satisfied: rsa<5,>=3.1.4 in /usr/local/lib/python3.11/dist-packages (from google-auth>=1.0.1->kubernetes>=28.1.0->chromadb>=1.0.9->langchain-chroma) (4.9.1)\n",
            "Requirement already satisfied: filelock in /usr/local/lib/python3.11/dist-packages (from huggingface-hub<1.0,>=0.16.4->tokenizers>=0.13.2->chromadb>=1.0.9->langchain-chroma) (3.18.0)\n",
            "Requirement already satisfied: fsspec>=2023.5.0 in /usr/local/lib/python3.11/dist-packages (from huggingface-hub<1.0,>=0.16.4->tokenizers>=0.13.2->chromadb>=1.0.9->langchain-chroma) (2025.3.2)\n",
            "Requirement already satisfied: zipp>=3.20 in /usr/local/lib/python3.11/dist-packages (from importlib-metadata<8.7.0,>=6.0->opentelemetry-api>=1.2.0->chromadb>=1.0.9->langchain-chroma) (3.21.0)\n",
            "Requirement already satisfied: mdurl~=0.1 in /usr/local/lib/python3.11/dist-packages (from markdown-it-py>=2.2.0->rich>=10.11.0->chromadb>=1.0.9->langchain-chroma) (0.1.2)\n",
            "Requirement already satisfied: humanfriendly>=9.1 in /usr/local/lib/python3.11/dist-packages (from coloredlogs->onnxruntime>=1.14.1->chromadb>=1.0.9->langchain-chroma) (10.0)\n",
            "Requirement already satisfied: mpmath<1.4,>=1.1.0 in /usr/local/lib/python3.11/dist-packages (from sympy->onnxruntime>=1.14.1->chromadb>=1.0.9->langchain-chroma) (1.3.0)\n",
            "Requirement already satisfied: pyasn1<0.7.0,>=0.6.1 in /usr/local/lib/python3.11/dist-packages (from pyasn1-modules>=0.2.1->google-auth>=1.0.1->kubernetes>=28.1.0->chromadb>=1.0.9->langchain-chroma) (0.6.1)\n",
            "Requirement already satisfied: langchain-community in /usr/local/lib/python3.11/dist-packages (0.3.24)\n",
            "Requirement already satisfied: langchain-core<1.0.0,>=0.3.59 in /usr/local/lib/python3.11/dist-packages (from langchain-community) (0.3.63)\n",
            "Requirement already satisfied: langchain<1.0.0,>=0.3.25 in /usr/local/lib/python3.11/dist-packages (from langchain-community) (0.3.25)\n",
            "Requirement already satisfied: SQLAlchemy<3,>=1.4 in /usr/local/lib/python3.11/dist-packages (from langchain-community) (2.0.41)\n",
            "Requirement already satisfied: requests<3,>=2 in /usr/local/lib/python3.11/dist-packages (from langchain-community) (2.32.3)\n",
            "Requirement already satisfied: PyYAML>=5.3 in /usr/local/lib/python3.11/dist-packages (from langchain-community) (6.0.2)\n",
            "Requirement already satisfied: aiohttp<4.0.0,>=3.8.3 in /usr/local/lib/python3.11/dist-packages (from langchain-community) (3.11.15)\n",
            "Requirement already satisfied: tenacity!=8.4.0,<10,>=8.1.0 in /usr/local/lib/python3.11/dist-packages (from langchain-community) (9.1.2)\n",
            "Requirement already satisfied: dataclasses-json<0.7,>=0.5.7 in /usr/local/lib/python3.11/dist-packages (from langchain-community) (0.6.7)\n",
            "Requirement already satisfied: pydantic-settings<3.0.0,>=2.4.0 in /usr/local/lib/python3.11/dist-packages (from langchain-community) (2.9.1)\n",
            "Requirement already satisfied: langsmith<0.4,>=0.1.125 in /usr/local/lib/python3.11/dist-packages (from langchain-community) (0.3.42)\n",
            "Requirement already satisfied: httpx-sse<1.0.0,>=0.4.0 in /usr/local/lib/python3.11/dist-packages (from langchain-community) (0.4.0)\n",
            "Requirement already satisfied: numpy>=1.26.2 in /usr/local/lib/python3.11/dist-packages (from langchain-community) (2.0.2)\n",
            "Requirement already satisfied: aiohappyeyeballs>=2.3.0 in /usr/local/lib/python3.11/dist-packages (from aiohttp<4.0.0,>=3.8.3->langchain-community) (2.6.1)\n",
            "Requirement already satisfied: aiosignal>=1.1.2 in /usr/local/lib/python3.11/dist-packages (from aiohttp<4.0.0,>=3.8.3->langchain-community) (1.3.2)\n",
            "Requirement already satisfied: attrs>=17.3.0 in /usr/local/lib/python3.11/dist-packages (from aiohttp<4.0.0,>=3.8.3->langchain-community) (25.3.0)\n",
            "Requirement already satisfied: frozenlist>=1.1.1 in /usr/local/lib/python3.11/dist-packages (from aiohttp<4.0.0,>=3.8.3->langchain-community) (1.6.0)\n",
            "Requirement already satisfied: multidict<7.0,>=4.5 in /usr/local/lib/python3.11/dist-packages (from aiohttp<4.0.0,>=3.8.3->langchain-community) (6.4.4)\n",
            "Requirement already satisfied: propcache>=0.2.0 in /usr/local/lib/python3.11/dist-packages (from aiohttp<4.0.0,>=3.8.3->langchain-community) (0.3.1)\n",
            "Requirement already satisfied: yarl<2.0,>=1.17.0 in /usr/local/lib/python3.11/dist-packages (from aiohttp<4.0.0,>=3.8.3->langchain-community) (1.20.0)\n",
            "Requirement already satisfied: marshmallow<4.0.0,>=3.18.0 in /usr/local/lib/python3.11/dist-packages (from dataclasses-json<0.7,>=0.5.7->langchain-community) (3.26.1)\n",
            "Requirement already satisfied: typing-inspect<1,>=0.4.0 in /usr/local/lib/python3.11/dist-packages (from dataclasses-json<0.7,>=0.5.7->langchain-community) (0.9.0)\n",
            "Requirement already satisfied: langchain-text-splitters<1.0.0,>=0.3.8 in /usr/local/lib/python3.11/dist-packages (from langchain<1.0.0,>=0.3.25->langchain-community) (0.3.8)\n",
            "Requirement already satisfied: pydantic<3.0.0,>=2.7.4 in /usr/local/lib/python3.11/dist-packages (from langchain<1.0.0,>=0.3.25->langchain-community) (2.11.4)\n",
            "Requirement already satisfied: jsonpatch<2.0,>=1.33 in /usr/local/lib/python3.11/dist-packages (from langchain-core<1.0.0,>=0.3.59->langchain-community) (1.33)\n",
            "Requirement already satisfied: packaging<25,>=23.2 in /usr/local/lib/python3.11/dist-packages (from langchain-core<1.0.0,>=0.3.59->langchain-community) (24.2)\n",
            "Requirement already satisfied: typing-extensions>=4.7 in /usr/local/lib/python3.11/dist-packages (from langchain-core<1.0.0,>=0.3.59->langchain-community) (4.13.2)\n",
            "Requirement already satisfied: httpx<1,>=0.23.0 in /usr/local/lib/python3.11/dist-packages (from langsmith<0.4,>=0.1.125->langchain-community) (0.28.1)\n",
            "Requirement already satisfied: orjson<4.0.0,>=3.9.14 in /usr/local/lib/python3.11/dist-packages (from langsmith<0.4,>=0.1.125->langchain-community) (3.10.18)\n",
            "Requirement already satisfied: requests-toolbelt<2.0.0,>=1.0.0 in /usr/local/lib/python3.11/dist-packages (from langsmith<0.4,>=0.1.125->langchain-community) (1.0.0)\n",
            "Requirement already satisfied: zstandard<0.24.0,>=0.23.0 in /usr/local/lib/python3.11/dist-packages (from langsmith<0.4,>=0.1.125->langchain-community) (0.23.0)\n",
            "Requirement already satisfied: python-dotenv>=0.21.0 in /usr/local/lib/python3.11/dist-packages (from pydantic-settings<3.0.0,>=2.4.0->langchain-community) (1.1.0)\n",
            "Requirement already satisfied: typing-inspection>=0.4.0 in /usr/local/lib/python3.11/dist-packages (from pydantic-settings<3.0.0,>=2.4.0->langchain-community) (0.4.1)\n",
            "Requirement already satisfied: charset-normalizer<4,>=2 in /usr/local/lib/python3.11/dist-packages (from requests<3,>=2->langchain-community) (3.4.2)\n",
            "Requirement already satisfied: idna<4,>=2.5 in /usr/local/lib/python3.11/dist-packages (from requests<3,>=2->langchain-community) (3.10)\n",
            "Requirement already satisfied: urllib3<3,>=1.21.1 in /usr/local/lib/python3.11/dist-packages (from requests<3,>=2->langchain-community) (2.4.0)\n",
            "Requirement already satisfied: certifi>=2017.4.17 in /usr/local/lib/python3.11/dist-packages (from requests<3,>=2->langchain-community) (2025.4.26)\n",
            "Requirement already satisfied: greenlet>=1 in /usr/local/lib/python3.11/dist-packages (from SQLAlchemy<3,>=1.4->langchain-community) (3.2.2)\n",
            "Requirement already satisfied: anyio in /usr/local/lib/python3.11/dist-packages (from httpx<1,>=0.23.0->langsmith<0.4,>=0.1.125->langchain-community) (4.9.0)\n",
            "Requirement already satisfied: httpcore==1.* in /usr/local/lib/python3.11/dist-packages (from httpx<1,>=0.23.0->langsmith<0.4,>=0.1.125->langchain-community) (1.0.9)\n",
            "Requirement already satisfied: h11>=0.16 in /usr/local/lib/python3.11/dist-packages (from httpcore==1.*->httpx<1,>=0.23.0->langsmith<0.4,>=0.1.125->langchain-community) (0.16.0)\n",
            "Requirement already satisfied: jsonpointer>=1.9 in /usr/local/lib/python3.11/dist-packages (from jsonpatch<2.0,>=1.33->langchain-core<1.0.0,>=0.3.59->langchain-community) (3.0.0)\n",
            "Requirement already satisfied: annotated-types>=0.6.0 in /usr/local/lib/python3.11/dist-packages (from pydantic<3.0.0,>=2.7.4->langchain<1.0.0,>=0.3.25->langchain-community) (0.7.0)\n",
            "Requirement already satisfied: pydantic-core==2.33.2 in /usr/local/lib/python3.11/dist-packages (from pydantic<3.0.0,>=2.7.4->langchain<1.0.0,>=0.3.25->langchain-community) (2.33.2)\n",
            "Requirement already satisfied: mypy-extensions>=0.3.0 in /usr/local/lib/python3.11/dist-packages (from typing-inspect<1,>=0.4.0->dataclasses-json<0.7,>=0.5.7->langchain-community) (1.1.0)\n",
            "Requirement already satisfied: sniffio>=1.1 in /usr/local/lib/python3.11/dist-packages (from anyio->httpx<1,>=0.23.0->langsmith<0.4,>=0.1.125->langchain-community) (1.3.1)\n",
            "Requirement already satisfied: lark in /usr/local/lib/python3.11/dist-packages (1.2.2)\n"
          ]
        }
      ]
    },
    {
      "cell_type": "markdown",
      "source": [
        "#### Load all_Chunks"
      ],
      "metadata": {
        "id": "1NtDwOxpk78E"
      }
    },
    {
      "cell_type": "code",
      "source": [
        "from google.colab import drive\n",
        "drive.mount('/content/drive', force_remount=True)\n"
      ],
      "metadata": {
        "colab": {
          "base_uri": "https://localhost:8080/"
        },
        "id": "VUfXfUxcNxYJ",
        "outputId": "52451f9c-df7c-46b6-b6b4-31ade6599d5c"
      },
      "execution_count": null,
      "outputs": [
        {
          "output_type": "stream",
          "name": "stdout",
          "text": [
            "Mounted at /content/drive\n"
          ]
        }
      ]
    },
    {
      "cell_type": "code",
      "source": [
        "chunk_file_path = \"/content/drive/MyDrive/Generative_AI/all_chunks.pkl\"\n"
      ],
      "metadata": {
        "id": "pXOdFMnpNyv-"
      },
      "execution_count": null,
      "outputs": []
    },
    {
      "cell_type": "code",
      "source": [
        "with open(chunk_file_path, \"rb\") as f:\n",
        "    all_chunks = pickle.load(f)\n",
        "\n",
        "print(f\"Chunks loaded successfully. Total number of chunks: {len(all_chunks)}\")\n"
      ],
      "metadata": {
        "colab": {
          "base_uri": "https://localhost:8080/"
        },
        "id": "-kg_wnwyNWLZ",
        "outputId": "d491f03e-9a0b-461f-e3de-c16205950e6d"
      },
      "execution_count": null,
      "outputs": [
        {
          "output_type": "stream",
          "name": "stdout",
          "text": [
            "Chunks loaded successfully. Total number of chunks: 112950\n"
          ]
        }
      ]
    },
    {
      "cell_type": "code",
      "source": [
        "# Extract text content & metadata\n",
        "texts = [chunk.page_content for chunk in all_chunks[:1000]]\n",
        "metadatas = [chunk.metadata for chunk in all_chunks[:1000]]\n",
        "\n",
        "# Quick sanity check\n",
        "print(f\"Total texts: {len(texts)}\")\n",
        "print(f\"Total metadatas: {len(metadatas)}\")\n",
        "print(\"\\nSample metadata:\\n\", metadatas[1])\n"
      ],
      "metadata": {
        "colab": {
          "base_uri": "https://localhost:8080/"
        },
        "id": "r6x4cCpPzumy",
        "outputId": "7b105b73-2841-4b63-c31d-e7aca9cdb901"
      },
      "execution_count": null,
      "outputs": [
        {
          "output_type": "stream",
          "name": "stdout",
          "text": [
            "Total texts: 1000\n",
            "Total metadatas: 1000\n",
            "\n",
            "Sample metadata:\n",
            " {'source': 'edgar', 'ticker': 'TSLA', 'filing_type': '10-Q', 'filing_id': '0001564590-18-026353', 'chunk_id': 1, 'section': 'Unknown', 'year': 2018, 'quarter': 'Q3'}\n"
          ]
        }
      ]
    },
    {
      "cell_type": "code",
      "source": [
        "# Set up Google Drive directory for Chroma DB\n",
        "persist_directory = \"/content/drive/MyDrive/chroma_db_insightedgar06\"\n",
        "os.makedirs(persist_directory, exist_ok=True)\n"
      ],
      "metadata": {
        "id": "_8rCoYbKzvEb"
      },
      "execution_count": null,
      "outputs": []
    },
    {
      "cell_type": "code",
      "source": [
        "# Initialize the embedding model (optimized for semantic search)\n",
        "embedding_model = HuggingFaceEmbeddings(model_name=\"BAAI/bge-base-en-v1.5\")\n"
      ],
      "metadata": {
        "id": "L4u7jjTo0bkI"
      },
      "execution_count": null,
      "outputs": []
    },
    {
      "cell_type": "code",
      "source": [
        "# Combine texts with their metadata into LangChain Document format\n",
        "docs = [\n",
        "    Document(page_content=texts[i], metadata=metadatas[i])\n",
        "    for i in range(len(texts))\n",
        "]\n",
        "\n",
        "print(f\"✅ Created {len(docs)} LangChain Documents.\")"
      ],
      "metadata": {
        "colab": {
          "base_uri": "https://localhost:8080/"
        },
        "id": "KhlCuU5k0bno",
        "outputId": "21f96ed9-0639-4562-ecc5-b4ede5815c5d"
      },
      "execution_count": null,
      "outputs": [
        {
          "output_type": "stream",
          "name": "stdout",
          "text": [
            "✅ Created 1000 LangChain Documents.\n"
          ]
        }
      ]
    },
    {
      "cell_type": "code",
      "source": [
        "# Create Chroma vector database and save automatically (no explicit persist required)\n",
        "vectordb = Chroma.from_documents(\n",
        "    documents=docs,\n",
        "    embedding=embedding_model,\n",
        "    persist_directory=persist_directory\n",
        ")\n",
        "\n",
        "print(\"✅ Vector DB stored and persisted to Google Drive.\")"
      ],
      "metadata": {
        "colab": {
          "base_uri": "https://localhost:8080/"
        },
        "id": "0um3w8q858Y9",
        "outputId": "d646b32b-6f05-4ae5-a4ce-21caebefaf5a"
      },
      "execution_count": null,
      "outputs": [
        {
          "output_type": "stream",
          "name": "stdout",
          "text": [
            "✅ Vector DB stored and persisted to Google Drive.\n"
          ]
        }
      ]
    },
    {
      "cell_type": "code",
      "source": [
        "!ls -lh \"/content/drive/MyDrive/chroma_db_insightedgar06\"\n"
      ],
      "metadata": {
        "colab": {
          "base_uri": "https://localhost:8080/"
        },
        "id": "Wq0fbQMs6eQG",
        "outputId": "29da31e7-86c9-499b-d394-6582fa2ae295"
      },
      "execution_count": null,
      "outputs": [
        {
          "output_type": "stream",
          "name": "stdout",
          "text": [
            "total 11M\n",
            "-rw------- 1 root root  11M May 30 12:06 chroma.sqlite3\n",
            "drwx------ 2 root root 4.0K May 30 12:06 eabe34b8-9360-4423-8cbe-9da9ff2f7354\n"
          ]
        }
      ]
    },
    {
      "cell_type": "code",
      "source": [
        "# Reload vector DB from the saved directory\n",
        "vectordb = Chroma(\n",
        "    embedding_function=embedding_model,\n",
        "    persist_directory=persist_directory\n",
        ")\n",
        "\n",
        "print(\"✅ Vector DB loaded.\")\n",
        "print(f\"🔢 Total chunks: {vectordb._collection.count()}\")\n"
      ],
      "metadata": {
        "colab": {
          "base_uri": "https://localhost:8080/"
        },
        "id": "m20ZiGZ16eTb",
        "outputId": "6da49557-a82c-43ec-e8f5-48375fc9d7cb"
      },
      "execution_count": null,
      "outputs": [
        {
          "output_type": "stream",
          "name": "stdout",
          "text": [
            "✅ Vector DB loaded.\n",
            "🔢 Total chunks: 1000\n"
          ]
        }
      ]
    },
    {
      "cell_type": "markdown",
      "source": [
        "## So far we:\n",
        "- Ingested and chunked EDGAR filings and user-uploaded documents.\n",
        "\n",
        "- Generated embeddings using BAAI/bge-base-en-v1.5.\n",
        "\n",
        "- Stored those embeddings in a persistent Chroma vector store in Google Drive."
      ],
      "metadata": {
        "id": "8mgysK8kvQjX"
      }
    },
    {
      "cell_type": "markdown",
      "source": [
        "# Set-up RAG Pipeline"
      ],
      "metadata": {
        "id": "zNwF2Vpv1qJG"
      }
    },
    {
      "cell_type": "code",
      "source": [
        "from google.colab import drive\n",
        "drive.mount('/content/drive')\n"
      ],
      "metadata": {
        "colab": {
          "base_uri": "https://localhost:8080/"
        },
        "id": "uLapHD3E2TXO",
        "outputId": "b5b97fc7-8406-4e55-dc2e-8959fe455517"
      },
      "execution_count": null,
      "outputs": [
        {
          "output_type": "stream",
          "name": "stdout",
          "text": [
            "Drive already mounted at /content/drive; to attempt to forcibly remount, call drive.mount(\"/content/drive\", force_remount=True).\n"
          ]
        }
      ]
    },
    {
      "cell_type": "code",
      "source": [
        "env_path = \"/content/drive/MyDrive/Generative_AI/edgar.env\"\n",
        "load_dotenv(env_path)\n",
        "\n",
        "# Load OpenAI API key\n",
        "openai_key = os.getenv(\"OPENAI_API_KEY\")\n",
        "print(\"🔐 Key loaded:\", openai_key[:6] + \"...\" if openai_key else \"❌ Key not found\")\n"
      ],
      "metadata": {
        "colab": {
          "base_uri": "https://localhost:8080/"
        },
        "id": "puGMTQOz2dHO",
        "outputId": "47f59a4d-6bde-455c-a8b1-3d9cccaa1562"
      },
      "execution_count": null,
      "outputs": [
        {
          "output_type": "stream",
          "name": "stdout",
          "text": [
            "🔐 Key loaded: sk-pro...\n"
          ]
        }
      ]
    },
    {
      "cell_type": "markdown",
      "source": [
        "### Load Chroma Vector DB"
      ],
      "metadata": {
        "id": "eNKTTc4J2njc"
      }
    },
    {
      "cell_type": "code",
      "source": [
        "# Load vector DB from Drive\n",
        "persist_directory = \"/content/drive/MyDrive/chroma_db_insightedgar06\"\n",
        "embedding_model = HuggingFaceEmbeddings(model_name=\"BAAI/bge-base-en-v1.5\")\n",
        "\n",
        "vectordb = Chroma(\n",
        "    persist_directory=persist_directory,\n",
        "    embedding_function=embedding_model\n",
        ")\n"
      ],
      "metadata": {
        "id": "cevEcY052e7o"
      },
      "execution_count": null,
      "outputs": []
    },
    {
      "cell_type": "markdown",
      "source": [
        "### Load LLM"
      ],
      "metadata": {
        "id": "kFmTuN3s29d_"
      }
    },
    {
      "cell_type": "code",
      "source": [
        "llm = ChatOpenAI(\n",
        "    model_name=\"gpt-3.5-turbo\",\n",
        "    temperature=0.2,\n",
        "    openai_api_key=openai_key\n",
        ")\n"
      ],
      "metadata": {
        "id": "YZULPJXm23pe"
      },
      "execution_count": null,
      "outputs": []
    },
    {
      "cell_type": "markdown",
      "source": [
        "### Create SelfQueryRetriever"
      ],
      "metadata": {
        "id": "38iOLbSVK5jK"
      }
    },
    {
      "cell_type": "markdown",
      "source": [
        "The SelfQueryRetriever from LangChain retriever uses an LLM (like GPT-3.5) to convert natural language queries into structured filter + keyword search queries over the metadata + vector store."
      ],
      "metadata": {
        "id": "S80GlIHWEOn-"
      }
    },
    {
      "cell_type": "code",
      "source": [
        "# Describe what the documents are about\n",
        "document_content_description = \"SEC financial filings from EDGAR 10-Ks and 10-Qs and user-uploaded documents like call transcripts\"\n",
        "\n",
        "# Define the metadata fields the retriever should understand\n",
        "metadata_field_info = [\n",
        "    AttributeInfo(\n",
        "        name=\"ticker\",\n",
        "        description=\"Company ticker symbol, such as TSLA, AAPL, etc.\",\n",
        "        type=\"string\"\n",
        "    ),\n",
        "    AttributeInfo(\n",
        "        name=\"filing_type\",\n",
        "        description=\"EDGAR filing form type such as 10-K or 10-Q\",\n",
        "        type=\"string\"\n",
        "    ),\n",
        "    AttributeInfo(\n",
        "        name=\"quarter\",\n",
        "        description=\"Financial quarter of the report (Q1, Q2, Q3, Q4)\",\n",
        "        type=\"string\"\n",
        "    ),\n",
        "    AttributeInfo(\n",
        "        name=\"year\",\n",
        "        description=\"Year of the report or transcript (e.g., 2025)\",\n",
        "        type=\"integer\"\n",
        "    ),\n",
        "    AttributeInfo(\n",
        "        name=\"section\",\n",
        "        description=\"Section of the document, such as 'Item 1A. Risk Factors', 'MD&A', or 'earnings call transcript'\",\n",
        "        type=\"string\"\n",
        "    ),\n",
        "    AttributeInfo(\n",
        "        name=\"source\",\n",
        "        description=\"Whether the document is from EDGAR or user upload\",\n",
        "        type=\"string\"\n",
        "    )\n",
        "]\n",
        "\n",
        "\n"
      ],
      "metadata": {
        "id": "yfk5YtqaK5ZK"
      },
      "execution_count": null,
      "outputs": []
    },
    {
      "cell_type": "code",
      "source": [
        "# Create the retriever\n",
        "retriever = SelfQueryRetriever.from_llm(\n",
        "    llm=llm,\n",
        "    vectorstore=vectordb,\n",
        "    document_contents = document_content_description,\n",
        "    metadata_field_info=metadata_field_info,\n",
        "    search_kwargs={\"k\": 5}\n",
        ")\n",
        "\n",
        "from langchain.chains.query_constructor.base import StructuredQueryOutputParser\n",
        "\n",
        "# Access the internal parser\n",
        "parser = retriever.query_constructor\n",
        "\n",
        "# Test your query\n",
        "query_text = \"What are the main risk factors for Tesla ?\"\n",
        "structured_query = parser.invoke({\"query\": query_text})\n",
        "\n",
        "print(structured_query)\n"
      ],
      "metadata": {
        "colab": {
          "base_uri": "https://localhost:8080/"
        },
        "id": "v7MnuUw_QpOO",
        "outputId": "d28e99de-11ae-4c7f-ffe1-882a4c00bca0"
      },
      "execution_count": null,
      "outputs": [
        {
          "output_type": "stream",
          "name": "stdout",
          "text": [
            "query='main risk factors Tesla' filter=Comparison(comparator=<Comparator.EQ: 'eq'>, attribute='ticker', value='TSLA') limit=None\n"
          ]
        }
      ]
    },
    {
      "cell_type": "code",
      "source": [
        "qa_chain = RetrievalQA.from_chain_type(\n",
        "    llm=llm,\n",
        "    retriever=retriever,\n",
        "    return_source_documents=True\n",
        ")\n",
        "\n",
        "query = \"What are the main risk factors for Tesla?\"\n",
        "result = qa_chain.invoke({\"query\": query})\n",
        "\n",
        "# Print result\n",
        "print(\"\\n📄 Answer:\\n\", result[\"result\"])\n",
        "\n",
        "# Print document sources (optional for debugging)\n",
        "for i, doc in enumerate(result[\"source_documents\"]):\n",
        "    print(f\"\\n📚 Source {i+1}:\")\n",
        "    print(\"Metadata:\", doc.metadata)\n",
        "    print(\"Content Preview:\", doc.page_content[:500], \"...\")\n"
      ],
      "metadata": {
        "colab": {
          "base_uri": "https://localhost:8080/"
        },
        "id": "oQgYwpu0eLQi",
        "outputId": "8826b633-92f4-4a5d-8f00-73de04428b3d"
      },
      "execution_count": null,
      "outputs": [
        {
          "output_type": "stream",
          "name": "stdout",
          "text": [
            "\n",
            "📄 Answer:\n",
            " The main risk factors for Tesla include potential delays or complications in designing, manufacturing, and delivering new vehicles and products, such as the Model 3, energy storage products, and the Solar Roof. Additionally, there are risks related to disasters that could damage facilities or operations, volatility in the trading price of Tesla's common stock, the need to increase Supercharger stations globally, and compliance with environmental, health, and safety regulations.\n",
            "\n",
            "📚 Source 1:\n",
            "Metadata: {'chunk_id': 409, 'section': 'ITEM 1A.', 'ticker': 'TSLA', 'filing_type': '10-Q', 'source': 'edgar', 'year': 2018, 'quarter': 'Q3', 'filing_id': '0001564590-18-026353'}\n",
            "Content Preview: &nbsp;\n",
            "ITEM 1A. RISK FACTORS\n",
            "You should carefully consider the risks described below together with the other information set forth in this report, which could materially affect our business, financial condition and future results. The risks described below are not the only risks facing our company. Risks and uncertainties not currently known to us or that we currently deem to be immaterial also may materially adversely affect our business, financial condition and operating results. \n",
            "Risks Relate ...\n",
            "\n",
            "📚 Source 2:\n",
            "Metadata: {'quarter': 'Q3', 'year': 2018, 'section': 'Unknown', 'filing_type': '10-Q', 'filing_id': '0001564590-18-026353', 'ticker': 'TSLA', 'source': 'edgar', 'chunk_id': 412}\n",
            "Content Preview: We may also experience similar future delays or other complications in bringing to market and ramping production of new vehicles, such as our Tesla Semi truck, our planned Model Y and new Tesla Roadster, our energy storage products and the Solar Roof. Any significant additional delay or other complication in the production of and delivery capabilities for our current products or the development, manufacture, launch, production and delivery capability ramp of our future products, including compli ...\n",
            "\n",
            "📚 Source 3:\n",
            "Metadata: {'quarter': 'Q3', 'filing_type': '10-Q', 'source': 'edgar', 'ticker': 'TSLA', 'chunk_id': 572, 'filing_id': '0001564590-18-026353', 'section': 'Unknown', 'year': 2018}\n",
            "Content Preview: Our facilities or operations could be damaged or adversely affected as a result of disasters.\n",
            "Our corporate headquarters, the Tesla Factory and Gigafactory 1 are located in seismically active regions in Northern California and Nevada. If major disasters such as earthquakes or other events occur, or our information system or communications network breaks down or operates improperly, our headquarters and production facilities may be seriously damaged, or we may have to stop or delay production and ...\n",
            "\n",
            "📚 Source 4:\n",
            "Metadata: {'ticker': 'TSLA', 'filing_id': '0001564590-18-026353', 'chunk_id': 475, 'filing_type': '10-Q', 'quarter': 'Q3', 'source': 'edgar', 'section': 'Unknown', 'year': 2018}\n",
            "Content Preview: . Furthermore, the increasing number of Tesla vehicles will require us to continue to increase the number of our Supercharger stations and connectors significantly in locations throughout the world. If we fail to do so in a timely manner, our customers could become dissatisfied, which could adversely affect sales of our vehicles. We will also need to ensure we are in compliance with any regulatory requirements applicable to the sale, installation and service of our products, the sale of electric ...\n",
            "\n",
            "📚 Source 5:\n",
            "Metadata: {'section': 'Unknown', 'filing_type': '10-Q', 'filing_id': '0001564590-18-026353', 'source': 'edgar', 'ticker': 'TSLA', 'quarter': 'Q3', 'chunk_id': 511, 'year': 2018}\n",
            "Content Preview: As a manufacturing company, including with respect to facilities such as the Tesla Factory, Gigafactory&#160;1 and Gigafactory&#160;2, we are subject to complex environmental, health and safety laws and regulations at numerous jurisdictional levels in the U.S. and abroad, including laws relating to the use, handling, storage, disposal and human exposure to hazardous materials. The costs of compliance, including remediating contamination if any is found on our properties and any changes to our op ...\n"
          ]
        }
      ]
    },
    {
      "cell_type": "code",
      "source": [],
      "metadata": {
        "id": "ZWByYjVx3HwH"
      },
      "execution_count": null,
      "outputs": []
    }
  ]
}